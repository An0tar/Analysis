{
 "cells": [
  {
   "cell_type": "markdown",
   "id": "21956bc5",
   "metadata": {},
   "source": [
    "## Подготовка к работе с данными\n",
    "### импортируем нужные библиотеки"
   ]
  },
  {
   "cell_type": "code",
   "execution_count": 1,
   "id": "6c2cacf1",
   "metadata": {},
   "outputs": [],
   "source": [
    "import pandas as pd\n",
    "import numpy as np\n",
    "import matplotlib.pyplot as plt\n",
    "import seaborn as sb\n",
    "from scipy.stats import kurtosis\n",
    "from scipy.stats import skew\n",
    "from scipy import stats\n",
    "plt.rcParams[\"figure.figsize\"] = (10.0, 7.0)"
   ]
  },
  {
   "cell_type": "markdown",
   "id": "9ae8224e",
   "metadata": {},
   "source": [
    "### Загрузим имеющиеся данные в датафреймы"
   ]
  },
  {
   "cell_type": "code",
   "execution_count": 2,
   "id": "166be966",
   "metadata": {},
   "outputs": [],
   "source": [
    "ABgroup = pd.read_csv('Data/ABgroup.csv', sep=',')\n",
    "cash = pd.read_csv('Data/Cash.csv', sep=',', parse_dates=['date'], dayfirst=True)\n",
    "money = pd.read_csv('Data/Money.csv', sep=',', parse_dates=['date'], dayfirst=True)\n",
    "cheaters = pd.read_csv('Data/Cheaters.csv', sep=',')\n",
    "platforms = pd.read_csv('Data/Platforms.csv', sep=',')"
   ]
  },
  {
   "cell_type": "markdown",
   "id": "b14d385a",
   "metadata": {},
   "source": [
    "### так как имеются дубликаты, удалим их в датасетах где нет разбивки по дате"
   ]
  },
  {
   "cell_type": "code",
   "execution_count": 3,
   "id": "b6330d85",
   "metadata": {},
   "outputs": [],
   "source": [
    "ABgroup.drop_duplicates(inplace=True)\n",
    "cheaters.drop_duplicates(inplace=True)\n",
    "platforms.drop_duplicates(inplace=True)"
   ]
  },
  {
   "cell_type": "markdown",
   "id": "2b662aa7",
   "metadata": {},
   "source": [
    "#### Первые два раздела описаны в ворде, и не включают в себя использование кода\n",
    "# Раздел 3. Очистка данных"
   ]
  },
  {
   "cell_type": "markdown",
   "id": "d7a12083",
   "metadata": {},
   "source": [
    "### создатим датафрейм с существующими читерами"
   ]
  },
  {
   "cell_type": "code",
   "execution_count": 5,
   "id": "9ea30329",
   "metadata": {},
   "outputs": [],
   "source": [
    "cheaters_true = cheaters[cheaters['cheaters'] == 1]"
   ]
  },
  {
   "cell_type": "markdown",
   "id": "e332ce92",
   "metadata": {},
   "source": [
    "### создатим датафрейм с существующими читерами"
   ]
  },
  {
   "cell_type": "code",
   "execution_count": 6,
   "id": "42e92af6",
   "metadata": {},
   "outputs": [],
   "source": [
    "cheaters_payments = cash.merge(cheaters_true, on='user_id').merge(money, on = ['user_id', 'date'])"
   ]
  },
  {
   "cell_type": "code",
   "execution_count": 7,
   "id": "dbc1f31c",
   "metadata": {
    "scrolled": true
   },
   "outputs": [
    {
     "data": {
      "text/html": [
       "<div>\n",
       "<style scoped>\n",
       "    .dataframe tbody tr th:only-of-type {\n",
       "        vertical-align: middle;\n",
       "    }\n",
       "\n",
       "    .dataframe tbody tr th {\n",
       "        vertical-align: top;\n",
       "    }\n",
       "\n",
       "    .dataframe thead th {\n",
       "        text-align: right;\n",
       "    }\n",
       "</style>\n",
       "<table border=\"1\" class=\"dataframe\">\n",
       "  <thead>\n",
       "    <tr style=\"text-align: right;\">\n",
       "      <th></th>\n",
       "      <th>cash</th>\n",
       "      <th>cheaters</th>\n",
       "      <th>money</th>\n",
       "    </tr>\n",
       "  </thead>\n",
       "  <tbody>\n",
       "    <tr>\n",
       "      <th>count</th>\n",
       "      <td>2824.000000</td>\n",
       "      <td>2824.0</td>\n",
       "      <td>2824.0</td>\n",
       "    </tr>\n",
       "    <tr>\n",
       "      <th>mean</th>\n",
       "      <td>18350.991501</td>\n",
       "      <td>1.0</td>\n",
       "      <td>0.0</td>\n",
       "    </tr>\n",
       "    <tr>\n",
       "      <th>std</th>\n",
       "      <td>16069.479162</td>\n",
       "      <td>0.0</td>\n",
       "      <td>0.0</td>\n",
       "    </tr>\n",
       "    <tr>\n",
       "      <th>min</th>\n",
       "      <td>0.000000</td>\n",
       "      <td>1.0</td>\n",
       "      <td>0.0</td>\n",
       "    </tr>\n",
       "    <tr>\n",
       "      <th>25%</th>\n",
       "      <td>5200.000000</td>\n",
       "      <td>1.0</td>\n",
       "      <td>0.0</td>\n",
       "    </tr>\n",
       "    <tr>\n",
       "      <th>50%</th>\n",
       "      <td>16200.000000</td>\n",
       "      <td>1.0</td>\n",
       "      <td>0.0</td>\n",
       "    </tr>\n",
       "    <tr>\n",
       "      <th>75%</th>\n",
       "      <td>28600.000000</td>\n",
       "      <td>1.0</td>\n",
       "      <td>0.0</td>\n",
       "    </tr>\n",
       "    <tr>\n",
       "      <th>max</th>\n",
       "      <td>148200.000000</td>\n",
       "      <td>1.0</td>\n",
       "      <td>0.0</td>\n",
       "    </tr>\n",
       "  </tbody>\n",
       "</table>\n",
       "</div>"
      ],
      "text/plain": [
       "                cash  cheaters   money\n",
       "count    2824.000000    2824.0  2824.0\n",
       "mean    18350.991501       1.0     0.0\n",
       "std     16069.479162       0.0     0.0\n",
       "min         0.000000       1.0     0.0\n",
       "25%      5200.000000       1.0     0.0\n",
       "50%     16200.000000       1.0     0.0\n",
       "75%     28600.000000       1.0     0.0\n",
       "max    148200.000000       1.0     0.0"
      ]
     },
     "execution_count": 7,
     "metadata": {},
     "output_type": "execute_result"
    }
   ],
   "source": [
    "cheaters_payments.describe()"
   ]
  },
  {
   "cell_type": "markdown",
   "id": "a0e87f7c",
   "metadata": {},
   "source": [
    "#### Так как тест длился 8 дней, фактическое количество читеров в 8 раз меньше, потому что, траты и платы производились каждый день теста"
   ]
  },
  {
   "cell_type": "markdown",
   "id": "f773015c",
   "metadata": {},
   "source": [
    "### Посмотрим сколько читеров всего было замечено за период, и на их суммарные донаты и траты валюты игры за период теста"
   ]
  },
  {
   "cell_type": "code",
   "execution_count": 8,
   "id": "1f2c0bf5",
   "metadata": {},
   "outputs": [
    {
     "data": {
      "text/html": [
       "<div>\n",
       "<style scoped>\n",
       "    .dataframe tbody tr th:only-of-type {\n",
       "        vertical-align: middle;\n",
       "    }\n",
       "\n",
       "    .dataframe tbody tr th {\n",
       "        vertical-align: top;\n",
       "    }\n",
       "\n",
       "    .dataframe thead th {\n",
       "        text-align: right;\n",
       "    }\n",
       "</style>\n",
       "<table border=\"1\" class=\"dataframe\">\n",
       "  <thead>\n",
       "    <tr style=\"text-align: right;\">\n",
       "      <th></th>\n",
       "      <th>cash</th>\n",
       "      <th>cheaters</th>\n",
       "      <th>money</th>\n",
       "    </tr>\n",
       "  </thead>\n",
       "  <tbody>\n",
       "    <tr>\n",
       "      <th>count</th>\n",
       "      <td>353.000000</td>\n",
       "      <td>353.0</td>\n",
       "      <td>353.0</td>\n",
       "    </tr>\n",
       "    <tr>\n",
       "      <th>mean</th>\n",
       "      <td>146807.932011</td>\n",
       "      <td>8.0</td>\n",
       "      <td>0.0</td>\n",
       "    </tr>\n",
       "    <tr>\n",
       "      <th>std</th>\n",
       "      <td>33800.925081</td>\n",
       "      <td>0.0</td>\n",
       "      <td>0.0</td>\n",
       "    </tr>\n",
       "    <tr>\n",
       "      <th>min</th>\n",
       "      <td>46700.000000</td>\n",
       "      <td>8.0</td>\n",
       "      <td>0.0</td>\n",
       "    </tr>\n",
       "    <tr>\n",
       "      <th>25%</th>\n",
       "      <td>125100.000000</td>\n",
       "      <td>8.0</td>\n",
       "      <td>0.0</td>\n",
       "    </tr>\n",
       "    <tr>\n",
       "      <th>50%</th>\n",
       "      <td>147200.000000</td>\n",
       "      <td>8.0</td>\n",
       "      <td>0.0</td>\n",
       "    </tr>\n",
       "    <tr>\n",
       "      <th>75%</th>\n",
       "      <td>169700.000000</td>\n",
       "      <td>8.0</td>\n",
       "      <td>0.0</td>\n",
       "    </tr>\n",
       "    <tr>\n",
       "      <th>max</th>\n",
       "      <td>253150.000000</td>\n",
       "      <td>8.0</td>\n",
       "      <td>0.0</td>\n",
       "    </tr>\n",
       "  </tbody>\n",
       "</table>\n",
       "</div>"
      ],
      "text/plain": [
       "                cash  cheaters  money\n",
       "count     353.000000     353.0  353.0\n",
       "mean   146807.932011       8.0    0.0\n",
       "std     33800.925081       0.0    0.0\n",
       "min     46700.000000       8.0    0.0\n",
       "25%    125100.000000       8.0    0.0\n",
       "50%    147200.000000       8.0    0.0\n",
       "75%    169700.000000       8.0    0.0\n",
       "max    253150.000000       8.0    0.0"
      ]
     },
     "execution_count": 8,
     "metadata": {},
     "output_type": "execute_result"
    }
   ],
   "source": [
    "cheaters_payments.groupby('user_id').agg('sum').describe()"
   ]
  },
  {
   "cell_type": "markdown",
   "id": "5fa5487f",
   "metadata": {},
   "source": [
    "#### Видим, что читеры вообще не производят платежей (донатов)"
   ]
  },
  {
   "cell_type": "markdown",
   "id": "00e1eb8d",
   "metadata": {},
   "source": [
    "### Теперь посмотрим на обычных игроков для сравнения"
   ]
  },
  {
   "cell_type": "code",
   "execution_count": 9,
   "id": "0e3a9310",
   "metadata": {},
   "outputs": [],
   "source": [
    "players = cheaters[cheaters['cheaters'] == 0]\n",
    "players_payment = cash.merge(players, on='user_id').merge(money, on = ['user_id', 'date'])"
   ]
  },
  {
   "cell_type": "code",
   "execution_count": 10,
   "id": "ee799151",
   "metadata": {
    "scrolled": true
   },
   "outputs": [
    {
     "data": {
      "text/html": [
       "<div>\n",
       "<style scoped>\n",
       "    .dataframe tbody tr th:only-of-type {\n",
       "        vertical-align: middle;\n",
       "    }\n",
       "\n",
       "    .dataframe tbody tr th {\n",
       "        vertical-align: top;\n",
       "    }\n",
       "\n",
       "    .dataframe thead th {\n",
       "        text-align: right;\n",
       "    }\n",
       "</style>\n",
       "<table border=\"1\" class=\"dataframe\">\n",
       "  <thead>\n",
       "    <tr style=\"text-align: right;\">\n",
       "      <th></th>\n",
       "      <th>cash</th>\n",
       "      <th>cheaters</th>\n",
       "      <th>money</th>\n",
       "    </tr>\n",
       "  </thead>\n",
       "  <tbody>\n",
       "    <tr>\n",
       "      <th>count</th>\n",
       "      <td>8.637176e+06</td>\n",
       "      <td>8637176.0</td>\n",
       "      <td>8.637176e+06</td>\n",
       "    </tr>\n",
       "    <tr>\n",
       "      <th>mean</th>\n",
       "      <td>7.576511e+02</td>\n",
       "      <td>0.0</td>\n",
       "      <td>7.492327e-01</td>\n",
       "    </tr>\n",
       "    <tr>\n",
       "      <th>std</th>\n",
       "      <td>7.716610e+02</td>\n",
       "      <td>0.0</td>\n",
       "      <td>7.923057e-01</td>\n",
       "    </tr>\n",
       "    <tr>\n",
       "      <th>min</th>\n",
       "      <td>0.000000e+00</td>\n",
       "      <td>0.0</td>\n",
       "      <td>0.000000e+00</td>\n",
       "    </tr>\n",
       "    <tr>\n",
       "      <th>25%</th>\n",
       "      <td>2.500000e+02</td>\n",
       "      <td>0.0</td>\n",
       "      <td>0.000000e+00</td>\n",
       "    </tr>\n",
       "    <tr>\n",
       "      <th>50%</th>\n",
       "      <td>7.000000e+02</td>\n",
       "      <td>0.0</td>\n",
       "      <td>9.900000e-01</td>\n",
       "    </tr>\n",
       "    <tr>\n",
       "      <th>75%</th>\n",
       "      <td>1.150000e+03</td>\n",
       "      <td>0.0</td>\n",
       "      <td>9.900000e-01</td>\n",
       "    </tr>\n",
       "    <tr>\n",
       "      <th>max</th>\n",
       "      <td>1.377500e+05</td>\n",
       "      <td>0.0</td>\n",
       "      <td>9.990000e+00</td>\n",
       "    </tr>\n",
       "  </tbody>\n",
       "</table>\n",
       "</div>"
      ],
      "text/plain": [
       "               cash   cheaters         money\n",
       "count  8.637176e+06  8637176.0  8.637176e+06\n",
       "mean   7.576511e+02        0.0  7.492327e-01\n",
       "std    7.716610e+02        0.0  7.923057e-01\n",
       "min    0.000000e+00        0.0  0.000000e+00\n",
       "25%    2.500000e+02        0.0  0.000000e+00\n",
       "50%    7.000000e+02        0.0  9.900000e-01\n",
       "75%    1.150000e+03        0.0  9.900000e-01\n",
       "max    1.377500e+05        0.0  9.990000e+00"
      ]
     },
     "execution_count": 10,
     "metadata": {},
     "output_type": "execute_result"
    }
   ],
   "source": [
    "players_payment.describe()"
   ]
  },
  {
   "cell_type": "markdown",
   "id": "2bca875e",
   "metadata": {},
   "source": [
    "### уберем экспоненциальную форму и посмотрим на суммарные траты за период у обычных игроков"
   ]
  },
  {
   "cell_type": "code",
   "execution_count": 12,
   "id": "0d010572",
   "metadata": {},
   "outputs": [],
   "source": [
    "pd.options.display.float_format = '{:,.1f}'.format"
   ]
  },
  {
   "cell_type": "code",
   "execution_count": 14,
   "id": "629c883a",
   "metadata": {},
   "outputs": [
    {
     "data": {
      "text/html": [
       "<div>\n",
       "<style scoped>\n",
       "    .dataframe tbody tr th:only-of-type {\n",
       "        vertical-align: middle;\n",
       "    }\n",
       "\n",
       "    .dataframe tbody tr th {\n",
       "        vertical-align: top;\n",
       "    }\n",
       "\n",
       "    .dataframe thead th {\n",
       "        text-align: right;\n",
       "    }\n",
       "</style>\n",
       "<table border=\"1\" class=\"dataframe\">\n",
       "  <thead>\n",
       "    <tr style=\"text-align: right;\">\n",
       "      <th></th>\n",
       "      <th>cash</th>\n",
       "      <th>money</th>\n",
       "    </tr>\n",
       "  </thead>\n",
       "  <tbody>\n",
       "    <tr>\n",
       "      <th>count</th>\n",
       "      <td>1,079,647.0</td>\n",
       "      <td>1,079,647.0</td>\n",
       "    </tr>\n",
       "    <tr>\n",
       "      <th>mean</th>\n",
       "      <td>6,061.2</td>\n",
       "      <td>6.0</td>\n",
       "    </tr>\n",
       "    <tr>\n",
       "      <th>std</th>\n",
       "      <td>3,004.2</td>\n",
       "      <td>1.9</td>\n",
       "    </tr>\n",
       "    <tr>\n",
       "      <th>min</th>\n",
       "      <td>50.0</td>\n",
       "      <td>0.0</td>\n",
       "    </tr>\n",
       "    <tr>\n",
       "      <th>25%</th>\n",
       "      <td>5,050.0</td>\n",
       "      <td>5.0</td>\n",
       "    </tr>\n",
       "    <tr>\n",
       "      <th>50%</th>\n",
       "      <td>6,000.0</td>\n",
       "      <td>6.0</td>\n",
       "    </tr>\n",
       "    <tr>\n",
       "      <th>75%</th>\n",
       "      <td>6,950.0</td>\n",
       "      <td>7.0</td>\n",
       "    </tr>\n",
       "    <tr>\n",
       "      <th>max</th>\n",
       "      <td>240,950.0</td>\n",
       "      <td>16.9</td>\n",
       "    </tr>\n",
       "  </tbody>\n",
       "</table>\n",
       "</div>"
      ],
      "text/plain": [
       "             cash       money\n",
       "count 1,079,647.0 1,079,647.0\n",
       "mean      6,061.2         6.0\n",
       "std       3,004.2         1.9\n",
       "min          50.0         0.0\n",
       "25%       5,050.0         5.0\n",
       "50%       6,000.0         6.0\n",
       "75%       6,950.0         7.0\n",
       "max     240,950.0        16.9"
      ]
     },
     "execution_count": 14,
     "metadata": {},
     "output_type": "execute_result"
    }
   ],
   "source": [
    "players_payment.groupby('user_id').agg('sum')[['cash', 'money']].describe()"
   ]
  },
  {
   "cell_type": "markdown",
   "id": "7969a459",
   "metadata": {},
   "source": [
    "### Посмотрим медианы читеров и обычных игроков"
   ]
  },
  {
   "cell_type": "code",
   "execution_count": 15,
   "id": "f5349d6a",
   "metadata": {
    "scrolled": true
   },
   "outputs": [
    {
     "name": "stdout",
     "output_type": "stream",
     "text": [
      "cash       147,200.0\n",
      "cheaters         8.0\n",
      "money            0.0\n",
      "dtype: float64\n",
      "cash       6,000.0\n",
      "cheaters       0.0\n",
      "money          6.0\n",
      "dtype: float64\n"
     ]
    }
   ],
   "source": [
    "print(cheaters_payments.groupby('user_id').agg('sum').median())\n",
    "print(players_payment.groupby('user_id').agg('sum').median())"
   ]
  },
  {
   "cell_type": "markdown",
   "id": "a76febef",
   "metadata": {},
   "source": [
    "#### Видно что траты обычных игроков и читеров разнятся в десятки раз. При этом читеры не покупают валюту."
   ]
  },
  {
   "cell_type": "markdown",
   "id": "dd5896ad",
   "metadata": {},
   "source": [
    "### Найдем всех кто потратил больше 95 квантиля по обычным игрокам и при этом не платил за валюту."
   ]
  },
  {
   "cell_type": "code",
   "execution_count": 16,
   "id": "4a1139ea",
   "metadata": {},
   "outputs": [],
   "source": [
    "player_level_95 = np.percentile(players_payment.groupby('user_id').agg('sum').cash, 95)"
   ]
  },
  {
   "cell_type": "code",
   "execution_count": 18,
   "id": "0a982862",
   "metadata": {},
   "outputs": [],
   "source": [
    "allpeiod_player = players_payment.groupby('user_id').agg('sum')"
   ]
  },
  {
   "cell_type": "code",
   "execution_count": 19,
   "id": "76ecb466",
   "metadata": {},
   "outputs": [],
   "source": [
    "suspicious_player = allpeiod_player[(allpeiod_player['cash'] > player_level_95) & (allpeiod_player['money'] == 0)]"
   ]
  },
  {
   "cell_type": "code",
   "execution_count": 20,
   "id": "c7109979",
   "metadata": {
    "scrolled": false
   },
   "outputs": [
    {
     "data": {
      "text/html": [
       "<div>\n",
       "<style scoped>\n",
       "    .dataframe tbody tr th:only-of-type {\n",
       "        vertical-align: middle;\n",
       "    }\n",
       "\n",
       "    .dataframe tbody tr th {\n",
       "        vertical-align: top;\n",
       "    }\n",
       "\n",
       "    .dataframe thead th {\n",
       "        text-align: right;\n",
       "    }\n",
       "</style>\n",
       "<table border=\"1\" class=\"dataframe\">\n",
       "  <thead>\n",
       "    <tr style=\"text-align: right;\">\n",
       "      <th></th>\n",
       "      <th>cash</th>\n",
       "      <th>cheaters</th>\n",
       "      <th>money</th>\n",
       "    </tr>\n",
       "    <tr>\n",
       "      <th>user_id</th>\n",
       "      <th></th>\n",
       "      <th></th>\n",
       "      <th></th>\n",
       "    </tr>\n",
       "  </thead>\n",
       "  <tbody>\n",
       "    <tr>\n",
       "      <th>027YD0-7N2S50</th>\n",
       "      <td>203400</td>\n",
       "      <td>0</td>\n",
       "      <td>0.0</td>\n",
       "    </tr>\n",
       "    <tr>\n",
       "      <th>091QZN-XYWQ8D</th>\n",
       "      <td>78500</td>\n",
       "      <td>0</td>\n",
       "      <td>0.0</td>\n",
       "    </tr>\n",
       "    <tr>\n",
       "      <th>0E95BB-LTAHXQ</th>\n",
       "      <td>166000</td>\n",
       "      <td>0</td>\n",
       "      <td>0.0</td>\n",
       "    </tr>\n",
       "    <tr>\n",
       "      <th>0GCX0G-5BZ6HE</th>\n",
       "      <td>122650</td>\n",
       "      <td>0</td>\n",
       "      <td>0.0</td>\n",
       "    </tr>\n",
       "    <tr>\n",
       "      <th>0GH23F-XS6VSB</th>\n",
       "      <td>152150</td>\n",
       "      <td>0</td>\n",
       "      <td>0.0</td>\n",
       "    </tr>\n",
       "    <tr>\n",
       "      <th>...</th>\n",
       "      <td>...</td>\n",
       "      <td>...</td>\n",
       "      <td>...</td>\n",
       "    </tr>\n",
       "    <tr>\n",
       "      <th>ZQNX2R-TGBYZ0</th>\n",
       "      <td>147200</td>\n",
       "      <td>0</td>\n",
       "      <td>0.0</td>\n",
       "    </tr>\n",
       "    <tr>\n",
       "      <th>ZRQNJL-5G1WXO</th>\n",
       "      <td>97950</td>\n",
       "      <td>0</td>\n",
       "      <td>0.0</td>\n",
       "    </tr>\n",
       "    <tr>\n",
       "      <th>ZUEJJE-KN8O77</th>\n",
       "      <td>121400</td>\n",
       "      <td>0</td>\n",
       "      <td>0.0</td>\n",
       "    </tr>\n",
       "    <tr>\n",
       "      <th>ZVKT51-78VHI9</th>\n",
       "      <td>214500</td>\n",
       "      <td>0</td>\n",
       "      <td>0.0</td>\n",
       "    </tr>\n",
       "    <tr>\n",
       "      <th>ZWHACF-Z2J5IA</th>\n",
       "      <td>111100</td>\n",
       "      <td>0</td>\n",
       "      <td>0.0</td>\n",
       "    </tr>\n",
       "  </tbody>\n",
       "</table>\n",
       "<p>344 rows × 3 columns</p>\n",
       "</div>"
      ],
      "text/plain": [
       "                 cash  cheaters  money\n",
       "user_id                               \n",
       "027YD0-7N2S50  203400         0    0.0\n",
       "091QZN-XYWQ8D   78500         0    0.0\n",
       "0E95BB-LTAHXQ  166000         0    0.0\n",
       "0GCX0G-5BZ6HE  122650         0    0.0\n",
       "0GH23F-XS6VSB  152150         0    0.0\n",
       "...               ...       ...    ...\n",
       "ZQNX2R-TGBYZ0  147200         0    0.0\n",
       "ZRQNJL-5G1WXO   97950         0    0.0\n",
       "ZUEJJE-KN8O77  121400         0    0.0\n",
       "ZVKT51-78VHI9  214500         0    0.0\n",
       "ZWHACF-Z2J5IA  111100         0    0.0\n",
       "\n",
       "[344 rows x 3 columns]"
      ]
     },
     "execution_count": 20,
     "metadata": {},
     "output_type": "execute_result"
    }
   ],
   "source": [
    "suspicious_player"
   ]
  },
  {
   "cell_type": "markdown",
   "id": "0af9b03c",
   "metadata": {},
   "source": [
    "#### Видим список игроков с подозрительно большими тратами, при этом у них нет покупок валюты. Будем считать их читерами тоже."
   ]
  },
  {
   "cell_type": "markdown",
   "id": "1929e8c1",
   "metadata": {},
   "source": [
    "### Вернем индекс на место"
   ]
  },
  {
   "cell_type": "code",
   "execution_count": 21,
   "id": "56064664",
   "metadata": {},
   "outputs": [],
   "source": [
    "suspicious_player.reset_index(inplace=True)"
   ]
  },
  {
   "cell_type": "markdown",
   "id": "bef77b77",
   "metadata": {},
   "source": [
    "### присвоим всем найденым читерам значение 1 в столбце cheaters"
   ]
  },
  {
   "cell_type": "code",
   "execution_count": 22,
   "id": "830a372f",
   "metadata": {},
   "outputs": [],
   "source": [
    "cheaters.loc[cheaters['user_id'].isin(suspicious_player['user_id']), 'cheaters'] = 1"
   ]
  },
  {
   "cell_type": "markdown",
   "id": "b55f6c55",
   "metadata": {},
   "source": [
    "### перезапишим датафрейм player, в нем не будет читеров. И добавим к нему разделение по группам"
   ]
  },
  {
   "cell_type": "code",
   "execution_count": 23,
   "id": "a97c3706",
   "metadata": {},
   "outputs": [],
   "source": [
    "players = cheaters[cheaters['cheaters'] == 0].merge(ABgroup, on = 'user_id')"
   ]
  },
  {
   "cell_type": "markdown",
   "id": "d9883dc3",
   "metadata": {},
   "source": [
    "# Раздел 4. Анализ"
   ]
  },
  {
   "cell_type": "markdown",
   "id": "8f996f17",
   "metadata": {},
   "source": [
    "### разделим пользователей на группы и сразу добавим их платежи и платформу"
   ]
  },
  {
   "cell_type": "code",
   "execution_count": 28,
   "id": "f6eb80c8",
   "metadata": {},
   "outputs": [],
   "source": [
    "test_group = players[players['group'] == 'test']\\\n",
    ".merge(money, on = ['user_id'])\n",
    "control_group = players[players['group'] == 'control']\\\n",
    ".merge(money, on = ['user_id'])"
   ]
  },
  {
   "cell_type": "markdown",
   "id": "8e3d89d4",
   "metadata": {},
   "source": [
    "### удалим более не нужные датафреймы ради экономии памяти"
   ]
  },
  {
   "cell_type": "code",
   "execution_count": 30,
   "id": "ccc7cc4f",
   "metadata": {
    "scrolled": true
   },
   "outputs": [
    {
     "ename": "NameError",
     "evalue": "name 'allpeiod_player' is not defined",
     "output_type": "error",
     "traceback": [
      "\u001b[1;31m---------------------------------------------------------------------------\u001b[0m",
      "\u001b[1;31mNameError\u001b[0m                                 Traceback (most recent call last)",
      "Input \u001b[1;32mIn [30]\u001b[0m, in \u001b[0;36m<cell line: 1>\u001b[1;34m()\u001b[0m\n\u001b[1;32m----> 1\u001b[0m \u001b[38;5;28;01mdel\u001b[39;00m allpeiod_player\n\u001b[0;32m      2\u001b[0m \u001b[38;5;28;01mdel\u001b[39;00m cheaters\n\u001b[0;32m      3\u001b[0m \u001b[38;5;28;01mdel\u001b[39;00m cheaters_payments\n",
      "\u001b[1;31mNameError\u001b[0m: name 'allpeiod_player' is not defined"
     ]
    }
   ],
   "source": [
    "del allpeiod_player\n",
    "del cheaters\n",
    "del cheaters_payments\n",
    "del cheaters_true\n",
    "del suspicious_player\n",
    "del players_payment\n",
    "del ABgroup"
   ]
  },
  {
   "cell_type": "markdown",
   "id": "cab66b1f",
   "metadata": {},
   "source": [
    "### Прежде чем считать метрики взглянем на графики и проверим их симметричность и эксцесс, для упрощения бдуем использовать функцию которая находит средние, квартили, медиану, моду, стандартное отклонение, эксцесс и ассиметрию и рисует график. График будет показывать количество игроков (y) и сколько они суммарно задонатили за период теста по оси х"
   ]
  },
  {
   "cell_type": "code",
   "execution_count": 66,
   "id": "b8dd4829",
   "metadata": {},
   "outputs": [],
   "source": [
    "def researh(df, column):\n",
    "    print(\"Базовые метрики\")\n",
    "    print(df[column].describe())\n",
    "    print('Медиана - ', df[column].median())\n",
    "    print(\"------------------------------------\")\n",
    "    \n",
    "    print(\"Самые популярные значения метрики, топ 5\")\n",
    "    print(df[column].value_counts().nlargest(5))\n",
    "    print(\"------------------------------------\")\n",
    "    \n",
    "    print(\"Эксцесс \", kurtosis(df[column]))\n",
    "    print(\"Ассиметрия \", skew(df[column]))\n",
    "    \n",
    "    sb.histplot(df[column], binwidth= 1)"
   ]
  },
  {
   "cell_type": "markdown",
   "id": "9182f995",
   "metadata": {},
   "source": [
    "### Тестовая группа"
   ]
  },
  {
   "cell_type": "code",
   "execution_count": 67,
   "id": "b8601f55",
   "metadata": {
    "scrolled": false
   },
   "outputs": [
    {
     "name": "stdout",
     "output_type": "stream",
     "text": [
      "Базовые метрики\n",
      "count   539,312.0\n",
      "mean          6.2\n",
      "std           1.9\n",
      "min           0.0\n",
      "25%           5.0\n",
      "50%           6.0\n",
      "75%           7.0\n",
      "max          16.9\n",
      "Name: money, dtype: float64\n",
      "Медиана -  5.95\n",
      "------------------------------------\n",
      "Самые популярные значения метрики, топ 5\n",
      "6.0    55860\n",
      "5.0    49457\n",
      "7.0    40198\n",
      "4.0    36292\n",
      "6.9    35217\n",
      "Name: money, dtype: int64\n",
      "------------------------------------\n",
      "Эксцесс  0.026747177605952466\n",
      "Ассиметрия  0.23717022914455232\n"
     ]
    },
    {
     "data": {
      "image/png": "[encoded data removed]",
      "text/plain": [
       "<Figure size 720x504 with 1 Axes>"
      ]
     },
     "metadata": {
      "needs_background": "light"
     },
     "output_type": "display_data"
    }
   ],
   "source": [
    "researh(test_group.groupby('user_id').agg('sum'), 'money')"
   ]
  },
  {
   "cell_type": "markdown",
   "id": "81f41edb",
   "metadata": {},
   "source": [
    "#### Видно что есть ассимтерия, но в целом распределение похоже на нормальное."
   ]
  },
  {
   "cell_type": "markdown",
   "id": "d1c28bf6",
   "metadata": {},
   "source": [
    "### Контрольная группа"
   ]
  },
  {
   "cell_type": "code",
   "execution_count": 68,
   "id": "fa24cb1e",
   "metadata": {},
   "outputs": [
    {
     "name": "stdout",
     "output_type": "stream",
     "text": [
      "Базовые метрики\n",
      "count   539,991.0\n",
      "mean          5.8\n",
      "std           1.9\n",
      "min           0.0\n",
      "25%           5.0\n",
      "50%           6.0\n",
      "75%           7.0\n",
      "max          15.9\n",
      "Name: money, dtype: float64\n",
      "Медиана -  5.95\n",
      "------------------------------------\n",
      "Самые популярные значения метрики, топ 5\n",
      "6.0    55576\n",
      "5.0    54557\n",
      "4.0    42771\n",
      "5.0    37251\n",
      "7.0    37051\n",
      "Name: money, dtype: int64\n",
      "------------------------------------\n",
      "Эксцесс  0.006912261917506601\n",
      "Ассиметрия  0.22888980004466286\n"
     ]
    },
    {
     "data": {
      "image/png": "[encoded data removed]",
      "text/plain": [
       "<Figure size 720x504 with 1 Axes>"
      ]
     },
     "metadata": {
      "needs_background": "light"
     },
     "output_type": "display_data"
    }
   ],
   "source": [
    "researh(control_group.groupby('user_id').agg('sum'), 'money')"
   ]
  },
  {
   "cell_type": "markdown",
   "id": "c348ac92",
   "metadata": {},
   "source": [
    "####  Можно сделать вывод что пркатически все игроки донатили хоть раз за период теста, на всякий случай посмотрим сколько вообще не платящих игроков"
   ]
  },
  {
   "cell_type": "code",
   "execution_count": 80,
   "id": "1b555b69",
   "metadata": {},
   "outputs": [
    {
     "data": {
      "text/plain": [
       "76"
      ]
     },
     "execution_count": 80,
     "metadata": {},
     "output_type": "execute_result"
    }
   ],
   "source": [
    "(test_group.groupby('user_id').agg('sum')['money'] == 0).sum()"
   ]
  },
  {
   "cell_type": "markdown",
   "id": "a5f8ddd4",
   "metadata": {},
   "source": [
    "#### Всего 76 игроков не донатили за период теста"
   ]
  },
  {
   "cell_type": "markdown",
   "id": "14342a58",
   "metadata": {},
   "source": [
    "### Теперь найдем  ARPU и ARPPU "
   ]
  },
  {
   "cell_type": "markdown",
   "id": "93425411",
   "metadata": {},
   "source": [
    "### найдем суммы платежей для каждой группы"
   ]
  },
  {
   "cell_type": "code",
   "execution_count": 81,
   "id": "27b2ddb0",
   "metadata": {},
   "outputs": [
    {
     "name": "stdout",
     "output_type": "stream",
     "text": [
      "Сумма платежей тестовой группы -  3323389.1799999946\n",
      "Сумма платежей контрольной группы -  3147865.7900000024\n"
     ]
    }
   ],
   "source": [
    "print('Сумма платежей тестовой группы - ', test_group_sum := test_group.money.sum())\n",
    "print('Сумма платежей контрольной группы - ', control_group_sum := control_group.money.sum())"
   ]
  },
  {
   "cell_type": "markdown",
   "id": "68801265",
   "metadata": {},
   "source": [
    "### найдем ARPU"
   ]
  },
  {
   "cell_type": "code",
   "execution_count": 83,
   "id": "a41dea5f",
   "metadata": {},
   "outputs": [
    {
     "name": "stdout",
     "output_type": "stream",
     "text": [
      "ARPU тестовой группы -  6.162275602990467 \n",
      " ARPU контрольной группы -  5.829478250563439\n"
     ]
    }
   ],
   "source": [
    "ARPU_test = test_group_sum / test_group.drop_duplicates('user_id').count()[0]\n",
    "ARPU_control = control_group_sum / control_group.drop_duplicates('user_id').count()[0]\n",
    "print('ARPU тестовой группы - ', ARPU_test, '\\n', 'ARPU контрольной группы - ', ARPU_control)"
   ]
  },
  {
   "cell_type": "markdown",
   "id": "f68c0b4d",
   "metadata": {},
   "source": [
    "### также найдем их доверительные интервалы возьмем доверительную вероятность 95%"
   ]
  },
  {
   "cell_type": "code",
   "execution_count": 85,
   "id": "5fdf6ee9",
   "metadata": {},
   "outputs": [],
   "source": [
    "def confidence(df, column, alpha = 0.95):\n",
    "    interval = stats.norm.interval(alpha, loc=df[column].mean(), scale=df[column].std())\n",
    "    return interval"
   ]
  },
  {
   "cell_type": "code",
   "execution_count": 86,
   "id": "52268a6f",
   "metadata": {},
   "outputs": [
    {
     "name": "stdout",
     "output_type": "stream",
     "text": [
      "Доверительный интервал тестовой группы (2.417077142534608, 9.907474063461883)\n",
      "Доверительный интервал контрольной группы (2.1572457079550493, 9.501710793182074)\n"
     ]
    }
   ],
   "source": [
    "test_confidence = confidence(test_group.groupby('user_id').agg('sum'), 'money')\n",
    "print('Доверительный интервал тестовой группы', test_confidence)\n",
    "control_confidence = confidence(control_group.groupby('user_id').agg('sum'), 'money')\n",
    "print('Доверительный интервал контрольной группы', control_confidence)"
   ]
  },
  {
   "cell_type": "markdown",
   "id": "0f2e15e8",
   "metadata": {},
   "source": [
    "### Различия не так уж и велики, но все таки у тестовой группы ARPU больше. Однако интервалы пересекаются почти на всю длину. Это может говорить о том что результаты получены случайно."
   ]
  },
  {
   "cell_type": "code",
   "execution_count": 29,
   "id": "18a06652",
   "metadata": {},
   "outputs": [
    {
     "name": "stdout",
     "output_type": "stream",
     "text": [
      "ARPU тестовой группы больше контрольной на  5.7  %\n"
     ]
    }
   ],
   "source": [
    "print('ARPU тестовой группы больше контрольной на ', round((ARPU_test - ARPU_control) / ARPU_control * 100, 1), ' %')"
   ]
  },
  {
   "cell_type": "markdown",
   "id": "b2f3e48c",
   "metadata": {},
   "source": [
    "### Теперь найдем ARPPU для этого сначала отделим платящих игроков"
   ]
  },
  {
   "cell_type": "code",
   "execution_count": 87,
   "id": "f619ce51",
   "metadata": {},
   "outputs": [],
   "source": [
    "df = test_group.groupby('user_id').agg('sum').reset_index()\n",
    "test_group_paying = df[df['money'] > 0]\n",
    "df = control_group.groupby('user_id').agg('sum').reset_index()\n",
    "control_group_paying = df[df['money'] > 0]"
   ]
  },
  {
   "cell_type": "code",
   "execution_count": 88,
   "id": "3ea49f64",
   "metadata": {},
   "outputs": [
    {
     "data": {
      "text/html": [
       "<div>\n",
       "<style scoped>\n",
       "    .dataframe tbody tr th:only-of-type {\n",
       "        vertical-align: middle;\n",
       "    }\n",
       "\n",
       "    .dataframe tbody tr th {\n",
       "        vertical-align: top;\n",
       "    }\n",
       "\n",
       "    .dataframe thead th {\n",
       "        text-align: right;\n",
       "    }\n",
       "</style>\n",
       "<table border=\"1\" class=\"dataframe\">\n",
       "  <thead>\n",
       "    <tr style=\"text-align: right;\">\n",
       "      <th></th>\n",
       "      <th>user_id</th>\n",
       "      <th>cheaters</th>\n",
       "      <th>money</th>\n",
       "    </tr>\n",
       "  </thead>\n",
       "  <tbody>\n",
       "    <tr>\n",
       "      <th>0</th>\n",
       "      <td>0004MK-VW0O9L</td>\n",
       "      <td>0</td>\n",
       "      <td>5.0</td>\n",
       "    </tr>\n",
       "    <tr>\n",
       "      <th>1</th>\n",
       "      <td>0005S4-UEC6BE</td>\n",
       "      <td>0</td>\n",
       "      <td>6.0</td>\n",
       "    </tr>\n",
       "    <tr>\n",
       "      <th>2</th>\n",
       "      <td>0007I5-EWUD6O</td>\n",
       "      <td>0</td>\n",
       "      <td>6.9</td>\n",
       "    </tr>\n",
       "    <tr>\n",
       "      <th>3</th>\n",
       "      <td>000IF8-UU506H</td>\n",
       "      <td>0</td>\n",
       "      <td>6.9</td>\n",
       "    </tr>\n",
       "    <tr>\n",
       "      <th>4</th>\n",
       "      <td>000IX6-VZLBS1</td>\n",
       "      <td>0</td>\n",
       "      <td>10.9</td>\n",
       "    </tr>\n",
       "    <tr>\n",
       "      <th>...</th>\n",
       "      <td>...</td>\n",
       "      <td>...</td>\n",
       "      <td>...</td>\n",
       "    </tr>\n",
       "    <tr>\n",
       "      <th>539307</th>\n",
       "      <td>ZZZIS2-9EYJF3</td>\n",
       "      <td>0</td>\n",
       "      <td>4.0</td>\n",
       "    </tr>\n",
       "    <tr>\n",
       "      <th>539308</th>\n",
       "      <td>ZZZONB-1W7QEW</td>\n",
       "      <td>0</td>\n",
       "      <td>7.0</td>\n",
       "    </tr>\n",
       "    <tr>\n",
       "      <th>539309</th>\n",
       "      <td>ZZZPEX-P2T8BH</td>\n",
       "      <td>0</td>\n",
       "      <td>7.0</td>\n",
       "    </tr>\n",
       "    <tr>\n",
       "      <th>539310</th>\n",
       "      <td>ZZZTEN-0QGZ3X</td>\n",
       "      <td>0</td>\n",
       "      <td>6.0</td>\n",
       "    </tr>\n",
       "    <tr>\n",
       "      <th>539311</th>\n",
       "      <td>ZZZTR5-QSI6D3</td>\n",
       "      <td>0</td>\n",
       "      <td>1.0</td>\n",
       "    </tr>\n",
       "  </tbody>\n",
       "</table>\n",
       "<p>539312 rows × 3 columns</p>\n",
       "</div>"
      ],
      "text/plain": [
       "              user_id  cheaters  money\n",
       "0       0004MK-VW0O9L         0    5.0\n",
       "1       0005S4-UEC6BE         0    6.0\n",
       "2       0007I5-EWUD6O         0    6.9\n",
       "3       000IF8-UU506H         0    6.9\n",
       "4       000IX6-VZLBS1         0   10.9\n",
       "...               ...       ...    ...\n",
       "539307  ZZZIS2-9EYJF3         0    4.0\n",
       "539308  ZZZONB-1W7QEW         0    7.0\n",
       "539309  ZZZPEX-P2T8BH         0    7.0\n",
       "539310  ZZZTEN-0QGZ3X         0    6.0\n",
       "539311  ZZZTR5-QSI6D3         0    1.0\n",
       "\n",
       "[539312 rows x 3 columns]"
      ]
     },
     "execution_count": 88,
     "metadata": {},
     "output_type": "execute_result"
    }
   ],
   "source": [
    "test_group.groupby('user_id').agg('sum').reset_index()"
   ]
  },
  {
   "cell_type": "code",
   "execution_count": 93,
   "id": "53d4f8b9",
   "metadata": {
    "scrolled": false
   },
   "outputs": [
    {
     "name": "stdout",
     "output_type": "stream",
     "text": [
      "Базовые метрики\n",
      "count   539,236.0\n",
      "mean          6.2\n",
      "std           1.9\n",
      "min           1.0\n",
      "25%           5.0\n",
      "50%           6.0\n",
      "75%           7.0\n",
      "max          16.9\n",
      "Name: money, dtype: float64\n",
      "Медиана -  5.95\n",
      "------------------------------------\n",
      "Самые популярные значения метрики, топ 5\n",
      "6.0    55860\n",
      "5.0    49457\n",
      "7.0    40198\n",
      "4.0    36292\n",
      "6.9    35217\n",
      "Name: money, dtype: int64\n",
      "------------------------------------\n",
      "Эксцесс  0.01948786963720961\n",
      "Ассиметрия  0.24104777717750522\n"
     ]
    },
    {
     "data": {
      "image/png": "[encoded data removed]",
      "text/plain": [
       "<Figure size 720x504 with 1 Axes>"
      ]
     },
     "metadata": {
      "needs_background": "light"
     },
     "output_type": "display_data"
    }
   ],
   "source": [
    "researh(test_group_paying, 'money')"
   ]
  },
  {
   "cell_type": "code",
   "execution_count": 92,
   "id": "c7fb33a1",
   "metadata": {
    "scrolled": false
   },
   "outputs": [
    {
     "name": "stdout",
     "output_type": "stream",
     "text": [
      "Базовые метрики\n",
      "count   539,840.0\n",
      "mean          5.8\n",
      "std           1.9\n",
      "min           1.0\n",
      "25%           5.0\n",
      "50%           6.0\n",
      "75%           7.0\n",
      "max          15.9\n",
      "Name: money, dtype: float64\n",
      "Медиана -  5.95\n",
      "------------------------------------\n",
      "Самые популярные значения метрики, топ 5\n",
      "6.0    55576\n",
      "5.0    54557\n",
      "4.0    42771\n",
      "5.0    37251\n",
      "7.0    37051\n",
      "Name: money, dtype: int64\n",
      "------------------------------------\n",
      "Эксцесс  -0.004748696740484171\n",
      "Ассиметрия  0.23563197648757012\n"
     ]
    },
    {
     "data": {
      "image/png": "[encoded data removed]",
      "text/plain": [
       "<Figure size 720x504 with 1 Axes>"
      ]
     },
     "metadata": {
      "needs_background": "light"
     },
     "output_type": "display_data"
    }
   ],
   "source": [
    "researh(control_group_paying, 'money')"
   ]
  },
  {
   "cell_type": "markdown",
   "id": "aefd4ad6",
   "metadata": {},
   "source": [
    "#### Так как в этих выборках были только платящие игроки, на 0 нет никого, а сами графики слабо различаются т.к. неплатящих игроков всего 76"
   ]
  },
  {
   "cell_type": "markdown",
   "id": "8e732233",
   "metadata": {},
   "source": [
    "### найдем ARPPU "
   ]
  },
  {
   "cell_type": "code",
   "execution_count": 94,
   "id": "72976c56",
   "metadata": {},
   "outputs": [
    {
     "name": "stdout",
     "output_type": "stream",
     "text": [
      "ARPPU тестовой группы -  6.163144115007149 \n",
      " ARPPU контрольной группы -  5.831108828541795\n"
     ]
    }
   ],
   "source": [
    "ARPPU_test = test_group_sum / test_group_paying.drop_duplicates('user_id').count()[0]\n",
    "ARPPU_control = control_group_sum / control_group_paying.drop_duplicates('user_id').count()[0]\n",
    "print('ARPPU тестовой группы - ', ARPPU_test, '\\n', 'ARPPU контрольной группы - ', ARPPU_control)"
   ]
  },
  {
   "cell_type": "code",
   "execution_count": 95,
   "id": "3d0ca5f7",
   "metadata": {},
   "outputs": [
    {
     "name": "stdout",
     "output_type": "stream",
     "text": [
      "Доверительный интервал тестовой группы (2.420427728875802, 9.905860501154054)\n",
      "Доверительный интервал контрольной группы (2.163338538245194, 9.498879118848642)\n"
     ]
    }
   ],
   "source": [
    "test_paying_confidence = confidence(test_group_paying.groupby('user_id').agg('sum'), 'money')\n",
    "print('Доверительный интервал тестовой группы', test_paying_confidence)\n",
    "control_paying_confidence = confidence(control_group_paying.groupby('user_id').agg('sum'), 'money')\n",
    "print('Доверительный интервал контрольной группы', control_paying_confidence)"
   ]
  },
  {
   "cell_type": "code",
   "execution_count": 96,
   "id": "0ae1cb61",
   "metadata": {},
   "outputs": [
    {
     "name": "stdout",
     "output_type": "stream",
     "text": [
      "ARPPU тестовой группы больше контрольной на  5.7  %\n"
     ]
    }
   ],
   "source": [
    "print('ARPPU тестовой группы больше контрольной на ', round((ARPPU_test - ARPPU_control) / ARPPU_control * 100, 1), ' %')"
   ]
  },
  {
   "cell_type": "markdown",
   "id": "91db8162",
   "metadata": {},
   "source": [
    "### Интервалы пересекаются на обоих метриках, это говорит о случайности результатов, результат от акции может быть и есть но слабый."
   ]
  },
  {
   "cell_type": "markdown",
   "id": "13bde4b9",
   "metadata": {},
   "source": [
    "### проверим те же метрики для групп разных платформ."
   ]
  },
  {
   "cell_type": "code",
   "execution_count": 97,
   "id": "17616ed4",
   "metadata": {
    "scrolled": false
   },
   "outputs": [],
   "source": [
    "test_group_PC = platforms[platforms['platform'] == 'PC'].merge(test_group, on = 'user_id')\n",
    "test_group_PS4 = platforms[platforms['platform'] == 'PS4'].merge(test_group, on = 'user_id')\n",
    "test_group_Xbox = platforms[platforms['platform'] == 'XBox'].merge(test_group, on = 'user_id')\n",
    "control_group_PC = platforms[platforms['platform'] == 'PC'].merge(control_group, on = 'user_id')\n",
    "control_group_PS4 = platforms[platforms['platform'] == 'PS4'].merge(control_group, on = 'user_id')\n",
    "control_group_Xbox = platforms[platforms['platform'] == 'XBox'].merge(control_group, on = 'user_id')"
   ]
  },
  {
   "cell_type": "markdown",
   "id": "ef9c622f",
   "metadata": {},
   "source": [
    "### создадим немного более удобную функцию исследования"
   ]
  },
  {
   "cell_type": "code",
   "execution_count": 119,
   "id": "01199dff",
   "metadata": {},
   "outputs": [],
   "source": [
    "def all_research(df, column = 'money', alpha = 0.95):\n",
    "    df_all = df.groupby('user_id').agg('sum').reset_index()\n",
    "    print(\"Базовые метрики - все игроки\")\n",
    "    print(df_all[column].describe())\n",
    "    print('Медиана - ', df_all[column].median())\n",
    "    print(\"------------------------------------\")\n",
    "    \n",
    "    print(\"Самые популярные значения метрики, топ 5\")\n",
    "    print(df_all[column].value_counts().nlargest(5))\n",
    "    print(\"------------------------------------\")\n",
    "    \n",
    "    print(\"Эксцесс \", kurtosis(df_all[column]))\n",
    "    print(\"Ассиметрия \", skew(df_all[column]))\n",
    "    \n",
    "    \n",
    "    \n",
    "    print('Сумма', df_all[column].sum())\n",
    "    ARPU = df_all[column].sum() / df_all.drop_duplicates('user_id').count()[0]\n",
    "    print('ARPU - ', ARPU)\n",
    "    \n",
    "    interval = stats.norm.interval(alpha, loc=df_all[column].mean(), scale=df_all[column].std())\n",
    "    print('Доверительный интервал средней для всех', interval)\n",
    "    print('-'* 20)\n",
    "    print('-'* 20)\n",
    "    \n",
    "    dfs = df.groupby('user_id').agg('sum').reset_index()\n",
    "    df_p = dfs[dfs['money'] > 0]\n",
    "    \n",
    "    print(\"Базовые метрики - платящие игроки\")\n",
    "    print(df_p[column].describe())\n",
    "    print('Медиана - ', df_p[column].median())\n",
    "    print(\"------------------------------------\")\n",
    "    \n",
    "    print(\"Самые популярные значения метрики, топ 5\")\n",
    "    print(df_p[column].value_counts().nlargest(5))\n",
    "    print(\"------------------------------------\")\n",
    "    \n",
    "    print(\"Эксцесс \", kurtosis(df_p[column]))\n",
    "    print(\"Ассиметрия \", skew(df_p[column]))\n",
    "    \n",
    "    \n",
    "    \n",
    "    ARPPU = df_p[column].sum() / df_p.drop_duplicates('user_id').count()[0]\n",
    "    \n",
    "    print('ARPPU - ', ARPPU)\n",
    "    \n",
    "    interval = stats.norm.interval(alpha, loc=df_p[column].mean(), scale=df_p[column].std())\n",
    "    print('Доверительный интервал средней для платящих', interval)\n",
    "    \n",
    "    \n",
    "    all_plot = sb.histplot(df_all[column], color='yellow', bins=15,  binwidth= 1);\n",
    "    all_plot.set_title('Все игроки группы')\n",
    "    plt.show()\n",
    "    paying_plot = sb.histplot(df_p[column], bins = 15, binwidth= 1, legend='Платящие игроки');\n",
    "    paying_plot.set_title('Платящие игроки группы')"
   ]
  },
  {
   "cell_type": "markdown",
   "id": "ee33789e",
   "metadata": {},
   "source": [
    "### описание тестовой группы игроков на ПК"
   ]
  },
  {
   "cell_type": "code",
   "execution_count": 120,
   "id": "b672fe1b",
   "metadata": {},
   "outputs": [
    {
     "name": "stdout",
     "output_type": "stream",
     "text": [
      "Базовые метрики - все игроки\n",
      "count   179,820.0\n",
      "mean          6.3\n",
      "std           1.9\n",
      "min           0.0\n",
      "25%           5.0\n",
      "50%           6.0\n",
      "75%           7.9\n",
      "max          16.9\n",
      "Name: money, dtype: float64\n",
      "Медиана -  5.96\n",
      "------------------------------------\n",
      "Самые популярные значения метрики, топ 5\n",
      "6.0    18850\n",
      "5.0    15995\n",
      "7.0    13609\n",
      "6.9    12138\n",
      "4.0    11562\n",
      "Name: money, dtype: int64\n",
      "------------------------------------\n",
      "Эксцесс  0.04797887632809106\n",
      "Ассиметрия  0.24937041981274452\n",
      "Сумма 1127299.88\n",
      "ARPU -  6.269046157268379\n",
      "Доверительный интервал средней для всех (2.487105299473276, 10.05098701502758)\n",
      "--------------------\n",
      "--------------------\n",
      "Базовые метрики - платящие игроки\n",
      "count   179,800.0\n",
      "mean          6.3\n",
      "std           1.9\n",
      "min           1.0\n",
      "25%           5.0\n",
      "50%           6.0\n",
      "75%           7.9\n",
      "max          16.9\n",
      "Name: money, dtype: float64\n",
      "Медиана -  5.96\n",
      "------------------------------------\n",
      "Самые популярные значения метрики, топ 5\n",
      "6.0    18850\n",
      "5.0    15995\n",
      "7.0    13609\n",
      "6.9    12138\n",
      "4.0    11562\n",
      "Name: money, dtype: int64\n",
      "------------------------------------\n",
      "Эксцесс  0.04202343693785204\n",
      "Ассиметрия  0.25253229675619193\n",
      "ARPPU -  6.269743492769745\n",
      "Доверительный интервал средней для платящих (2.4898132993463573, 10.049673686157224)\n"
     ]
    },
    {
     "data": {
      "image/png": "[encoded data removed]",
      "text/plain": [
       "<Figure size 720x504 with 1 Axes>"
      ]
     },
     "metadata": {
      "needs_background": "light"
     },
     "output_type": "display_data"
    },
    {
     "data": {
      "image/png": "[encoded data removed]",
      "text/plain": [
       "<Figure size 720x504 with 1 Axes>"
      ]
     },
     "metadata": {
      "needs_background": "light"
     },
     "output_type": "display_data"
    }
   ],
   "source": [
    "all_research(test_group_PC)"
   ]
  },
  {
   "cell_type": "markdown",
   "id": "bda7c91e",
   "metadata": {},
   "source": [
    "### описание контрольной грппы игроков на ПК"
   ]
  },
  {
   "cell_type": "code",
   "execution_count": 121,
   "id": "18c72c74",
   "metadata": {},
   "outputs": [
    {
     "name": "stdout",
     "output_type": "stream",
     "text": [
      "Базовые метрики - все игроки\n",
      "count   179,732.0\n",
      "mean          5.6\n",
      "std           1.8\n",
      "min           0.0\n",
      "25%           4.0\n",
      "50%           5.9\n",
      "75%           7.0\n",
      "max          14.9\n",
      "Name: money, dtype: float64\n",
      "Медиана -  5.9399999999999995\n",
      "------------------------------------\n",
      "Самые популярные значения метрики, топ 5\n",
      "5.0    19237\n",
      "6.0    18918\n",
      "4.0    15515\n",
      "5.0    12858\n",
      "7.0    11808\n",
      "Name: money, dtype: int64\n",
      "------------------------------------\n",
      "Эксцесс  0.007294703110581668\n",
      "Ассиметрия  0.20938340950020856\n",
      "Сумма 1014803.06\n",
      "ARPU -  5.6462013442236225\n",
      "Доверительный интервал средней для всех (2.0852347204284074, 9.207167967987086)\n",
      "--------------------\n",
      "--------------------\n",
      "Базовые метрики - платящие игроки\n",
      "count   179,665.0\n",
      "mean          5.6\n",
      "std           1.8\n",
      "min           1.0\n",
      "25%           4.0\n",
      "50%           5.9\n",
      "75%           7.0\n",
      "max          14.9\n",
      "Name: money, dtype: float64\n",
      "Медиана -  5.9399999999999995\n",
      "------------------------------------\n",
      "Самые популярные значения метрики, топ 5\n",
      "5.0    19237\n",
      "6.0    18918\n",
      "4.0    15515\n",
      "5.0    12858\n",
      "7.0    11808\n",
      "Name: money, dtype: int64\n",
      "------------------------------------\n",
      "Эксцесс  -0.008085001731901187\n",
      "Ассиметрия  0.21824495829613558\n",
      "ARPPU -  5.64830690451674\n",
      "Доверительный интервал средней для платящих (2.0930958095412815, 9.203517999460436)\n"
     ]
    },
    {
     "data": {
      "image/png": "[encoded data removed]",
      "text/plain": [
       "<Figure size 720x504 with 1 Axes>"
      ]
     },
     "metadata": {
      "needs_background": "light"
     },
     "output_type": "display_data"
    },
    {
     "data": {
      "image/png": "[encoded data removed]",
      "text/plain": [
       "<Figure size 720x504 with 1 Axes>"
      ]
     },
     "metadata": {
      "needs_background": "light"
     },
     "output_type": "display_data"
    }
   ],
   "source": [
    "all_research(control_group_PC)"
   ]
  },
  {
   "cell_type": "markdown",
   "id": "646181b9",
   "metadata": {},
   "source": [
    "#### ARPU и ARPPU также выше у тестовой группы для игроков на ПК"
   ]
  },
  {
   "cell_type": "markdown",
   "id": "6369140c",
   "metadata": {},
   "source": [
    "### описание контрольной грппы игроков на ПК"
   ]
  },
  {
   "cell_type": "code",
   "execution_count": 122,
   "id": "d78bd022",
   "metadata": {},
   "outputs": [
    {
     "name": "stdout",
     "output_type": "stream",
     "text": [
      "Базовые метрики - все игроки\n",
      "count   179,415.0\n",
      "mean          6.1\n",
      "std           1.9\n",
      "min           0.0\n",
      "25%           5.0\n",
      "50%           6.0\n",
      "75%           7.0\n",
      "max          15.9\n",
      "Name: money, dtype: float64\n",
      "Медиана -  5.95\n",
      "------------------------------------\n",
      "Самые популярные значения метрики, топ 5\n",
      "6.0    18512\n",
      "5.0    16961\n",
      "7.0    13321\n",
      "4.0    12532\n",
      "5.0    11722\n",
      "Name: money, dtype: int64\n",
      "------------------------------------\n",
      "Эксцесс  0.005903475589768448\n",
      "Ассиметрия  0.21822758720072233\n",
      "Сумма 1091719.2100000002\n",
      "ARPU -  6.08488259064181\n",
      "Доверительный интервал средней для всех (2.3902870056128545, 9.779478175636244)\n",
      "--------------------\n",
      "--------------------\n",
      "Базовые метрики - платящие игроки\n",
      "count   179,386.0\n",
      "mean          6.1\n",
      "std           1.9\n",
      "min           1.0\n",
      "25%           5.0\n",
      "50%           6.0\n",
      "75%           7.0\n",
      "max          15.9\n",
      "Name: money, dtype: float64\n",
      "Медиана -  5.95\n",
      "------------------------------------\n",
      "Самые популярные значения метрики, топ 5\n",
      "6.0    18512\n",
      "5.0    16961\n",
      "7.0    13321\n",
      "4.0    12532\n",
      "5.0    11722\n",
      "Name: money, dtype: int64\n",
      "------------------------------------\n",
      "Эксцесс  -0.0025045069911668882\n",
      "Ассиметрия  0.22264586897913705\n",
      "ARPPU -  6.085866288339112\n",
      "Доверительный интервал средней для платящих (2.3940854658606265, 9.777647110783075)\n"
     ]
    },
    {
     "data": {
      "image/png": "[encoded data removed]",
      "text/plain": [
       "<Figure size 720x504 with 1 Axes>"
      ]
     },
     "metadata": {
      "needs_background": "light"
     },
     "output_type": "display_data"
    },
    {
     "data": {
      "image/png": "[encoded data removed]",
      "text/plain": [
       "<Figure size 720x504 with 1 Axes>"
      ]
     },
     "metadata": {
      "needs_background": "light"
     },
     "output_type": "display_data"
    }
   ],
   "source": [
    "all_research(test_group_PS4)"
   ]
  },
  {
   "cell_type": "markdown",
   "id": "9ac54707",
   "metadata": {},
   "source": [
    "### описание контрольной группы игроков на ПС4"
   ]
  },
  {
   "cell_type": "code",
   "execution_count": 123,
   "id": "97b28c4c",
   "metadata": {},
   "outputs": [
    {
     "name": "stdout",
     "output_type": "stream",
     "text": [
      "Базовые метрики - все игроки\n",
      "count   179,804.0\n",
      "mean          5.7\n",
      "std           1.9\n",
      "min           0.0\n",
      "25%           4.0\n",
      "50%           6.0\n",
      "75%           7.0\n",
      "max          14.9\n",
      "Name: money, dtype: float64\n",
      "Медиана -  5.95\n",
      "------------------------------------\n",
      "Самые популярные значения метрики, топ 5\n",
      "5.0    18389\n",
      "6.0    18113\n",
      "4.0    14827\n",
      "5.0    12557\n",
      "7.0    11980\n",
      "Name: money, dtype: int64\n",
      "------------------------------------\n",
      "Эксцесс  -0.03658336978708654\n",
      "Ассиметрия  0.21783101352028067\n",
      "Сумма 1031651.8699999999\n",
      "ARPU -  5.73764693777669\n",
      "Доверительный интервал средней для всех (2.0782611436421083, 9.397032731878994)\n",
      "--------------------\n",
      "--------------------\n",
      "Базовые метрики - платящие игроки\n",
      "count   179,747.0\n",
      "mean          5.7\n",
      "std           1.9\n",
      "min           1.0\n",
      "25%           4.0\n",
      "50%           6.0\n",
      "75%           7.0\n",
      "max          14.9\n",
      "Name: money, dtype: float64\n",
      "Медиана -  5.95\n",
      "------------------------------------\n",
      "Самые популярные значения метрики, топ 5\n",
      "5.0    18389\n",
      "6.0    18113\n",
      "4.0    14827\n",
      "5.0    12557\n",
      "7.0    11980\n",
      "Name: money, dtype: int64\n",
      "------------------------------------\n",
      "Эксцесс  -0.04901753694799815\n",
      "Ассиметрия  0.22509134946442036\n",
      "ARPPU -  5.739466416685675\n",
      "Доверительный интервал средней для платящих (2.0849849290709326, 9.393947904268128)\n"
     ]
    },
    {
     "data": {
      "image/png": "[encoded data removed]",
      "text/plain": [
       "<Figure size 720x504 with 1 Axes>"
      ]
     },
     "metadata": {
      "needs_background": "light"
     },
     "output_type": "display_data"
    },
    {
     "data": {
      "image/png": "[encoded data removed]",
      "text/plain": [
       "<Figure size 720x504 with 1 Axes>"
      ]
     },
     "metadata": {
      "needs_background": "light"
     },
     "output_type": "display_data"
    }
   ],
   "source": [
    "all_research(control_group_PS4)"
   ]
  },
  {
   "cell_type": "markdown",
   "id": "b963a38b",
   "metadata": {},
   "source": [
    "#### Показатели ARPU ARPPU тестовой группы также больше контрольной, но при этом меньше чем у группы на игроков ПК"
   ]
  },
  {
   "cell_type": "markdown",
   "id": "3ae6d7ec",
   "metadata": {},
   "source": [
    "### описание тестовой группы игроков на иксбокс"
   ]
  },
  {
   "cell_type": "code",
   "execution_count": 124,
   "id": "3d1a2b5e",
   "metadata": {},
   "outputs": [
    {
     "name": "stdout",
     "output_type": "stream",
     "text": [
      "Базовые метрики - все игроки\n",
      "count   180,077.0\n",
      "mean          6.1\n",
      "std           1.9\n",
      "min           0.0\n",
      "25%           5.0\n",
      "50%           6.0\n",
      "75%           7.0\n",
      "max          15.9\n",
      "Name: money, dtype: float64\n",
      "Медиана -  5.95\n",
      "------------------------------------\n",
      "Самые популярные значения метрики, топ 5\n",
      "6.0    18498\n",
      "5.0    16501\n",
      "7.0    13268\n",
      "4.0    12198\n",
      "5.0    11751\n",
      "Name: money, dtype: int64\n",
      "------------------------------------\n",
      "Эксцесс  0.012458503010370325\n",
      "Ассиметрия  0.23785999509845931\n",
      "Сумма 1104370.09\n",
      "ARPU -  6.1327659279086175\n",
      "Доверительный интервал средней для всех (2.383687674723918, 9.881844181058247)\n",
      "--------------------\n",
      "--------------------\n",
      "Базовые метрики - платящие игроки\n",
      "count   180,050.0\n",
      "mean          6.1\n",
      "std           1.9\n",
      "min           1.0\n",
      "25%           5.0\n",
      "50%           6.0\n",
      "75%           7.0\n",
      "max          15.9\n",
      "Name: money, dtype: float64\n",
      "Медиана -  5.95\n",
      "------------------------------------\n",
      "Самые популярные значения метрики, топ 5\n",
      "6.0    18498\n",
      "5.0    16501\n",
      "7.0    13268\n",
      "4.0    12198\n",
      "5.0    11751\n",
      "Name: money, dtype: int64\n",
      "------------------------------------\n",
      "Эксцесс  0.004957897919129817\n",
      "Ассиметрия  0.24190226379422555\n",
      "ARPPU -  6.13368558733685\n",
      "Доверительный интервал средней для платящих (2.387217103469644, 9.880154071168985)\n"
     ]
    },
    {
     "data": {
      "image/png": "[encoded data removed]",
      "text/plain": [
       "<Figure size 720x504 with 1 Axes>"
      ]
     },
     "metadata": {
      "needs_background": "light"
     },
     "output_type": "display_data"
    },
    {
     "data": {
      "image/png": "[encoded data removed]",
      "text/plain": [
       "<Figure size 720x504 with 1 Axes>"
      ]
     },
     "metadata": {
      "needs_background": "light"
     },
     "output_type": "display_data"
    }
   ],
   "source": [
    "all_research(test_group_Xbox)"
   ]
  },
  {
   "cell_type": "markdown",
   "id": "45afc55f",
   "metadata": {},
   "source": [
    "### описание контрольной группы игроков на иксбокс"
   ]
  },
  {
   "cell_type": "code",
   "execution_count": 125,
   "id": "54b62260",
   "metadata": {},
   "outputs": [
    {
     "name": "stdout",
     "output_type": "stream",
     "text": [
      "Базовые метрики - все игроки\n",
      "count   180,455.0\n",
      "mean          6.1\n",
      "std           1.9\n",
      "min           0.0\n",
      "25%           5.0\n",
      "50%           6.0\n",
      "75%           7.0\n",
      "max          15.9\n",
      "Name: money, dtype: float64\n",
      "Медиана -  5.95\n",
      "------------------------------------\n",
      "Самые популярные значения метрики, топ 5\n",
      "6.0    18545\n",
      "5.0    16931\n",
      "7.0    13263\n",
      "4.0    12429\n",
      "5.0    11836\n",
      "Name: money, dtype: int64\n",
      "------------------------------------\n",
      "Эксцесс  0.007546259405377231\n",
      "Ассиметрия  0.23325578640234226\n",
      "Сумма 1101410.8599999999\n",
      "ARPU -  6.103520877781164\n",
      "Доверительный интервал средней для всех (2.371017420681194, 9.836024334846265)\n",
      "--------------------\n",
      "--------------------\n",
      "Базовые метрики - платящие игроки\n",
      "count   180,428.0\n",
      "mean          6.1\n",
      "std           1.9\n",
      "min           1.0\n",
      "25%           5.0\n",
      "50%           6.0\n",
      "75%           7.0\n",
      "max          15.9\n",
      "Name: money, dtype: float64\n",
      "Медиана -  5.95\n",
      "------------------------------------\n",
      "Самые популярные значения метрики, топ 5\n",
      "6.0    18545\n",
      "5.0    16931\n",
      "7.0    13263\n",
      "4.0    12429\n",
      "5.0    11836\n",
      "Name: money, dtype: int64\n",
      "------------------------------------\n",
      "Эксцесс  7.173932956971996e-05\n",
      "Ассиметрия  0.23727420948058614\n",
      "ARPPU -  6.104434234154343\n",
      "Доверительный интервал средней для платящих (2.3745215562543938, 9.834346912019418)\n"
     ]
    },
    {
     "data": {
      "image/png": "[encoded data removed]",
      "text/plain": [
       "<Figure size 720x504 with 1 Axes>"
      ]
     },
     "metadata": {
      "needs_background": "light"
     },
     "output_type": "display_data"
    },
    {
     "data": {
      "image/png": "[encoded data removed]",
      "text/plain": [
       "<Figure size 720x504 with 1 Axes>"
      ]
     },
     "metadata": {
      "needs_background": "light"
     },
     "output_type": "display_data"
    }
   ],
   "source": [
    "all_research(control_group_Xbox)"
   ]
  },
  {
   "cell_type": "markdown",
   "id": "7a494336",
   "metadata": {},
   "source": [
    "#### На игроков на иксбокс акция не подействовала практически никак, наиболее сильный эффект от акции был на игроках на ПК, послабее для игроков на ПС4."
   ]
  },
  {
   "cell_type": "markdown",
   "id": "8e1eec42",
   "metadata": {},
   "source": [
    "### Раздел 5. Отчёт"
   ]
  },
  {
   "cell_type": "markdown",
   "id": "1434c442",
   "metadata": {},
   "source": [
    "### Добавим метрики ARSU, ARSPU которые представляют из себя коэффициент суммарная трата за период / кол-во игроков(платящих игроков). изменим наименования метрик, и увеличим разбиение в графиках, график будет показывать количество игроков по оси У и их суммарные траты валюты на оси Х."
   ]
  },
  {
   "cell_type": "code",
   "execution_count": 132,
   "id": "14629062",
   "metadata": {},
   "outputs": [],
   "source": [
    "def all_research(df, column = 'money', alpha = 0.95):\n",
    "    df_all = df.groupby('user_id').agg('sum').reset_index()\n",
    "    print(\"Базовые метрики - все игроки\")\n",
    "    print(df_all[column].describe())\n",
    "    print('Медиана - ', df_all[column].median())\n",
    "    print(\"------------------------------------\")\n",
    "    \n",
    "    print(\"Самые популярные значения метрики, топ 5\")\n",
    "    print(df_all[column].value_counts().nlargest(5))\n",
    "    print(\"------------------------------------\")\n",
    "    \n",
    "    print(\"Эксцесс \", kurtosis(df_all[column]))\n",
    "    print(\"Ассиметрия \", skew(df_all[column]))\n",
    "    \n",
    "    \n",
    "    \n",
    "    print('Сумма', df_all[column].sum())\n",
    "    ARSU = df_all[column].sum() / df_all.drop_duplicates('user_id').count()[0]\n",
    "    print('ARSU - ', ARSU)\n",
    "    \n",
    "    interval = stats.norm.interval(alpha, loc=df_all[column].mean(), scale=df_all[column].std())\n",
    "    print('Доверительный интервал средней для всех', interval)\n",
    "    print('-'* 20)\n",
    "    print('-'* 20)\n",
    "    \n",
    "    dfs = df.groupby('user_id').agg('sum').reset_index()\n",
    "    df_p = dfs[dfs['money'] > 0]\n",
    "    \n",
    "    print(\"Базовые метрики - платящие игроки\")\n",
    "    print(df_p[column].describe())\n",
    "    print('Медиана - ', df_p[column].median())\n",
    "    print(\"------------------------------------\")\n",
    "    \n",
    "    print(\"Самые популярные значения метрики, топ 5\")\n",
    "    print(df_p[column].value_counts().nlargest(5))\n",
    "    print(\"------------------------------------\")\n",
    "    \n",
    "    print(\"Эксцесс \", kurtosis(df_p[column]))\n",
    "    print(\"Ассиметрия \", skew(df_p[column]))\n",
    "    \n",
    "    \n",
    "    \n",
    "    ARSPU = df_p[column].sum() / df_p.drop_duplicates('user_id').count()[0]\n",
    "    \n",
    "    print('ARSPU - ', ARSPU)\n",
    "    \n",
    "    interval = stats.norm.interval(alpha, loc=df_p[column].mean(), scale=df_p[column].std())\n",
    "    print('Доверительный интервал средней для платящих', interval)\n",
    "    \n",
    "    \n",
    "    all_plot = sb.histplot(df_all[column], color='yellow', bins=40);\n",
    "    all_plot.set_title('Все игроки')\n",
    "    plt.show()\n",
    "    paying_plot = sb.histplot(df_p[column], bins = 40, legend='Платящие игроки');\n",
    "    paying_plot.set_title('Платящие игроки')"
   ]
  },
  {
   "cell_type": "markdown",
   "id": "25d303d1",
   "metadata": {},
   "source": [
    "### добавим колонку с тратой валюты"
   ]
  },
  {
   "cell_type": "code",
   "execution_count": 129,
   "id": "8cc1e255",
   "metadata": {},
   "outputs": [],
   "source": [
    "test_group = test_group.merge(cash, on=['user_id', 'date'])\n",
    "control_group = control_group.merge(cash, on=['user_id', 'date'])"
   ]
  },
  {
   "cell_type": "markdown",
   "id": "780664c6",
   "metadata": {},
   "source": [
    "### Тестовая группа"
   ]
  },
  {
   "cell_type": "code",
   "execution_count": 133,
   "id": "cda8deff",
   "metadata": {
    "scrolled": false
   },
   "outputs": [
    {
     "name": "stdout",
     "output_type": "stream",
     "text": [
      "Базовые метрики - все игроки\n",
      "count   539,312.0\n",
      "mean      6,229.6\n",
      "std       1,411.4\n",
      "min         100.0\n",
      "25%       5,300.0\n",
      "50%       6,250.0\n",
      "75%       7,200.0\n",
      "max      13,250.0\n",
      "Name: cash, dtype: float64\n",
      "Медиана -  6250.0\n",
      "------------------------------------\n",
      "Самые популярные значения метрики, топ 5\n",
      "6400    7737\n",
      "6200    7695\n",
      "6100    7660\n",
      "6450    7631\n",
      "6000    7605\n",
      "Name: cash, dtype: int64\n",
      "------------------------------------\n",
      "Эксцесс  0.006093711613086583\n",
      "Ассиметрия  0.010217085257937361\n",
      "Сумма 3359696050\n",
      "ARSU -  6229.596319013855\n",
      "Доверительный интервал средней для всех (3463.289304234267, 8995.903333793442)\n",
      "--------------------\n",
      "--------------------\n",
      "Базовые метрики - платящие игроки\n",
      "count   539,236.0\n",
      "mean      6,230.0\n",
      "std       1,411.0\n",
      "min         100.0\n",
      "25%       5,300.0\n",
      "50%       6,250.0\n",
      "75%       7,200.0\n",
      "max      13,250.0\n",
      "Name: cash, dtype: float64\n",
      "Медиана -  6250.0\n",
      "------------------------------------\n",
      "Самые популярные значения метрики, топ 5\n",
      "6400    7737\n",
      "6200    7695\n",
      "6100    7660\n",
      "6450    7631\n",
      "6000    7605\n",
      "Name: cash, dtype: int64\n",
      "------------------------------------\n",
      "Эксцесс  0.0048606651174156745\n",
      "Ассиметрия  0.01103317110334891\n",
      "ARSPU -  6229.9972553761245\n",
      "Доверительный интервал средней для платящих (3464.392324318775, 8995.602186433474)\n"
     ]
    },
    {
     "data": {
      "image/png": "[encoded data removed]",
      "text/plain": [
       "<Figure size 720x504 with 1 Axes>"
      ]
     },
     "metadata": {
      "needs_background": "light"
     },
     "output_type": "display_data"
    },
    {
     "data": {
      "image/png": "[encoded data removed]",
      "text/plain": [
       "<Figure size 720x504 with 1 Axes>"
      ]
     },
     "metadata": {
      "needs_background": "light"
     },
     "output_type": "display_data"
    }
   ],
   "source": [
    "all_research(test_group, 'cash')"
   ]
  },
  {
   "cell_type": "markdown",
   "id": "a3af86ce",
   "metadata": {},
   "source": [
    "### контрольная группа"
   ]
  },
  {
   "cell_type": "code",
   "execution_count": 134,
   "id": "6c024d05",
   "metadata": {
    "scrolled": false
   },
   "outputs": [
    {
     "name": "stdout",
     "output_type": "stream",
     "text": [
      "Базовые метрики - все игроки\n",
      "count   539,991.0\n",
      "mean      5,800.7\n",
      "std       1,347.1\n",
      "min          50.0\n",
      "25%       4,900.0\n",
      "50%       5,800.0\n",
      "75%       6,700.0\n",
      "max      12,300.0\n",
      "Name: cash, dtype: float64\n",
      "Медиана -  5800.0\n",
      "------------------------------------\n",
      "Самые популярные значения метрики, топ 5\n",
      "5700    8234\n",
      "5850    8176\n",
      "6050    8060\n",
      "5750    8033\n",
      "5600    8021\n",
      "Name: cash, dtype: int64\n",
      "------------------------------------\n",
      "Эксцесс  0.03639547405548127\n",
      "Ассиметрия  0.044479811298419145\n",
      "Сумма 3132328700\n",
      "ARSU -  5800.705382126739\n",
      "Доверительный интервал средней для всех (3160.4640590387303, 8440.946705214748)\n",
      "--------------------\n",
      "--------------------\n",
      "Базовые метрики - платящие игроки\n",
      "count   539,840.0\n",
      "mean      5,801.4\n",
      "std       1,346.5\n",
      "min          50.0\n",
      "25%       4,900.0\n",
      "50%       5,800.0\n",
      "75%       6,700.0\n",
      "max      12,300.0\n",
      "Name: cash, dtype: float64\n",
      "Медиана -  5800.0\n",
      "------------------------------------\n",
      "Самые популярные значения метрики, топ 5\n",
      "5700    8234\n",
      "5850    8176\n",
      "6050    8060\n",
      "5750    8033\n",
      "5600    8021\n",
      "Name: cash, dtype: int64\n",
      "------------------------------------\n",
      "Эксцесс  0.0357888125467154\n",
      "Ассиметрия  0.045538740514498584\n",
      "ARSPU -  5801.407268820391\n",
      "Доверительный интервал средней для платящих (3162.2516734530905, 8440.562864187692)\n"
     ]
    },
    {
     "data": {
      "image/png": "[encoded data removed]",
      "text/plain": [
       "<Figure size 720x504 with 1 Axes>"
      ]
     },
     "metadata": {
      "needs_background": "light"
     },
     "output_type": "display_data"
    },
    {
     "data": {
      "image/png": "[encoded data removed]",
      "text/plain": [
       "<Figure size 720x504 with 1 Axes>"
      ]
     },
     "metadata": {
      "needs_background": "light"
     },
     "output_type": "display_data"
    }
   ],
   "source": [
    "all_research(control_group, 'cash')"
   ]
  },
  {
   "cell_type": "markdown",
   "id": "73d77973",
   "metadata": {},
   "source": [
    "### добавим столбец платежей в существующие датафреймы"
   ]
  },
  {
   "cell_type": "code",
   "execution_count": 135,
   "id": "7cfd30b7",
   "metadata": {},
   "outputs": [],
   "source": [
    "test_group_PC = test_group_PC.merge(cash, on = ['user_id', 'date'])\n",
    "test_group_PS4 = test_group_PS4.merge(cash, on = ['user_id', 'date'])\n",
    "test_group_Xbox = test_group_Xbox.merge(cash, on = ['user_id', 'date'])\n",
    "control_group_PC = control_group_PC.merge(cash, on = ['user_id', 'date'])\n",
    "control_group_PS4 = control_group_PS4.merge(cash, on = ['user_id', 'date'])\n",
    "control_group_Xbox = control_group_Xbox.merge(cash, on = ['user_id', 'date'])"
   ]
  },
  {
   "cell_type": "markdown",
   "id": "323aaceb",
   "metadata": {},
   "source": [
    "### Исследуем тестовую группу игроков на ПК"
   ]
  },
  {
   "cell_type": "code",
   "execution_count": 136,
   "id": "d70cb55b",
   "metadata": {},
   "outputs": [
    {
     "name": "stdout",
     "output_type": "stream",
     "text": [
      "Базовые метрики - все игроки\n",
      "count   179,820.0\n",
      "mean      6,381.7\n",
      "std       1,456.3\n",
      "min         100.0\n",
      "25%       5,400.0\n",
      "50%       6,400.0\n",
      "75%       7,350.0\n",
      "max      12,700.0\n",
      "Name: cash, dtype: float64\n",
      "Медиана -  6400.0\n",
      "------------------------------------\n",
      "Самые популярные значения метрики, топ 5\n",
      "6400    2527\n",
      "6450    2502\n",
      "6650    2502\n",
      "6100    2476\n",
      "6200    2453\n",
      "Name: cash, dtype: int64\n",
      "------------------------------------\n",
      "Эксцесс  -0.00691655344235631\n",
      "Ассиметрия  -0.004635102042471981\n",
      "Сумма 1147565500\n",
      "ARSU -  6381.745634523412\n",
      "Доверительный интервал средней для всех (3527.490304225572, 9236.000964821253)\n",
      "--------------------\n",
      "--------------------\n",
      "Базовые метрики - платящие игроки\n",
      "count   179,800.0\n",
      "mean      6,382.1\n",
      "std       1,456.0\n",
      "min         100.0\n",
      "25%       5,400.0\n",
      "50%       6,400.0\n",
      "75%       7,350.0\n",
      "max      12,700.0\n",
      "Name: cash, dtype: float64\n",
      "Медиана -  6400.0\n",
      "------------------------------------\n",
      "Самые популярные значения метрики, топ 5\n",
      "6400    2527\n",
      "6450    2502\n",
      "6650    2502\n",
      "6100    2476\n",
      "6200    2453\n",
      "Name: cash, dtype: int64\n",
      "------------------------------------\n",
      "Эксцесс  -0.008451827862127281\n",
      "Ассиметрия  -0.0039003019212648813\n",
      "ARSPU -  6382.06423804227\n",
      "Доверительный интервал средней для платящих (3528.3814974793777, 9235.746978605162)\n"
     ]
    },
    {
     "data": {
      "image/png": "[encoded data removed]",
      "text/plain": [
       "<Figure size 720x504 with 1 Axes>"
      ]
     },
     "metadata": {
      "needs_background": "light"
     },
     "output_type": "display_data"
    },
    {
     "data": {
      "image/png": "[encoded data removed]",
      "text/plain": [
       "<Figure size 720x504 with 1 Axes>"
      ]
     },
     "metadata": {
      "needs_background": "light"
     },
     "output_type": "display_data"
    }
   ],
   "source": [
    "all_research(test_group_PC, 'cash')"
   ]
  },
  {
   "cell_type": "markdown",
   "id": "0ae4ad3c",
   "metadata": {},
   "source": [
    "### Исследуем контрольную группу игроков на ПК"
   ]
  },
  {
   "cell_type": "code",
   "execution_count": 137,
   "id": "1d772e90",
   "metadata": {},
   "outputs": [
    {
     "name": "stdout",
     "output_type": "stream",
     "text": [
      "Базовые метрики - все игроки\n",
      "count   179,732.0\n",
      "mean      5,587.1\n",
      "std       1,238.5\n",
      "min          50.0\n",
      "25%       4,750.0\n",
      "50%       5,600.0\n",
      "75%       6,400.0\n",
      "max      11,350.0\n",
      "Name: cash, dtype: float64\n",
      "Медиана -  5600.0\n",
      "------------------------------------\n",
      "Самые популярные значения метрики, топ 5\n",
      "5550    2964\n",
      "5700    2961\n",
      "5600    2954\n",
      "5500    2922\n",
      "5650    2882\n",
      "Name: cash, dtype: int64\n",
      "------------------------------------\n",
      "Эксцесс  0.02336671947937674\n",
      "Ассиметрия  -0.006913814380671639\n",
      "Сумма 1004181050\n",
      "ARSU -  5587.102185476153\n",
      "Доверительный интервал средней для всех (3159.7836793857646, 8014.420691566542)\n",
      "--------------------\n",
      "--------------------\n",
      "Базовые метрики - платящие игроки\n",
      "count   179,665.0\n",
      "mean      5,588.0\n",
      "std       1,237.8\n",
      "min          50.0\n",
      "25%       4,750.0\n",
      "50%       5,600.0\n",
      "75%       6,400.0\n",
      "max      11,350.0\n",
      "Name: cash, dtype: float64\n",
      "Медиана -  5600.0\n",
      "------------------------------------\n",
      "Самые популярные значения метрики, топ 5\n",
      "5550    2964\n",
      "5700    2961\n",
      "5600    2954\n",
      "5500    2922\n",
      "5650    2882\n",
      "Name: cash, dtype: int64\n",
      "------------------------------------\n",
      "Эксцесс  0.02246950367898659\n",
      "Ассиметрия  -0.005520865125648824\n",
      "ARSPU -  5587.963988534217\n",
      "Доверительный интервал средней для платящих (3161.997416738078, 8013.930560330356)\n"
     ]
    },
    {
     "data": {
      "image/png": "[encoded data removed]",
      "text/plain": [
       "<Figure size 720x504 with 1 Axes>"
      ]
     },
     "metadata": {
      "needs_background": "light"
     },
     "output_type": "display_data"
    },
    {
     "data": {
      "image/png": "[encoded data removed]",
      "text/plain": [
       "<Figure size 720x504 with 1 Axes>"
      ]
     },
     "metadata": {
      "needs_background": "light"
     },
     "output_type": "display_data"
    }
   ],
   "source": [
    "all_research(control_group_PC, 'cash')"
   ]
  },
  {
   "cell_type": "markdown",
   "id": "69573153",
   "metadata": {},
   "source": [
    "### Тестовая группа игроков на ПС4"
   ]
  },
  {
   "cell_type": "code",
   "execution_count": 138,
   "id": "e3e14738",
   "metadata": {},
   "outputs": [
    {
     "name": "stdout",
     "output_type": "stream",
     "text": [
      "Базовые метрики - все игроки\n",
      "count   179,415.0\n",
      "mean      6,130.5\n",
      "std       1,362.2\n",
      "min         100.0\n",
      "25%       5,200.0\n",
      "50%       6,150.0\n",
      "75%       7,050.0\n",
      "max      13,250.0\n",
      "Name: cash, dtype: float64\n",
      "Медиана -  6150.0\n",
      "------------------------------------\n",
      "Самые популярные значения метрики, топ 5\n",
      "6100    2666\n",
      "6200    2658\n",
      "6000    2655\n",
      "5800    2644\n",
      "6050    2636\n",
      "Name: cash, dtype: int64\n",
      "------------------------------------\n",
      "Эксцесс  -0.0022666108463544887\n",
      "Ассиметрия  -0.008803924709465174\n",
      "Сумма 1099902450\n",
      "ARSU -  6130.4932697934955\n",
      "Доверительный интервал средней для всех (3460.5664381068054, 8800.420101480186)\n",
      "--------------------\n",
      "--------------------\n",
      "Базовые метрики - платящие игроки\n",
      "count   179,386.0\n",
      "mean      6,130.9\n",
      "std       1,361.9\n",
      "min         100.0\n",
      "25%       5,200.0\n",
      "50%       6,150.0\n",
      "75%       7,050.0\n",
      "max      13,250.0\n",
      "Name: cash, dtype: float64\n",
      "Медиана -  6150.0\n",
      "------------------------------------\n",
      "Самые популярные значения метрики, топ 5\n",
      "6100    2666\n",
      "6200    2658\n",
      "6000    2655\n",
      "5800    2644\n",
      "6050    2636\n",
      "Name: cash, dtype: int64\n",
      "------------------------------------\n",
      "Эксцесс  -0.003059082986569983\n",
      "Ассиметрия  -0.008065356375364301\n",
      "ARSPU -  6130.925211554971\n",
      "Доверительный интервал средней для платящих (3461.713768569812, 8800.136654540129)\n"
     ]
    },
    {
     "data": {
      "image/png": "[encoded data removed]",
      "text/plain": [
       "<Figure size 720x504 with 1 Axes>"
      ]
     },
     "metadata": {
      "needs_background": "light"
     },
     "output_type": "display_data"
    },
    {
     "data": {
      "image/png": "[encoded data removed]",
      "text/plain": [
       "<Figure size 720x504 with 1 Axes>"
      ]
     },
     "metadata": {
      "needs_background": "light"
     },
     "output_type": "display_data"
    }
   ],
   "source": [
    "all_research(test_group_PS4, 'cash')"
   ]
  },
  {
   "cell_type": "markdown",
   "id": "e300c9ff",
   "metadata": {},
   "source": [
    "### Контрольная группа игроков на ПС4"
   ]
  },
  {
   "cell_type": "code",
   "execution_count": 139,
   "id": "dbfb12e6",
   "metadata": {},
   "outputs": [
    {
     "name": "stdout",
     "output_type": "stream",
     "text": [
      "Базовые метрики - все игроки\n",
      "count   179,804.0\n",
      "mean      5,681.9\n",
      "std       1,334.4\n",
      "min          50.0\n",
      "25%       4,800.0\n",
      "50%       5,700.0\n",
      "75%       6,600.0\n",
      "max      11,600.0\n",
      "Name: cash, dtype: float64\n",
      "Медиана -  5700.0\n",
      "------------------------------------\n",
      "Самые популярные значения метрики, топ 5\n",
      "5700    2768\n",
      "5850    2748\n",
      "5500    2721\n",
      "5750    2716\n",
      "5600    2704\n",
      "Name: cash, dtype: int64\n",
      "------------------------------------\n",
      "Эксцесс  -0.012463456882148893\n",
      "Ассиметрия  -0.009713017986440616\n",
      "Сумма 1021634850\n",
      "ARSU -  5681.936163822829\n",
      "Доверительный интервал средней для всех (3066.57092390516, 8297.3014037405)\n",
      "--------------------\n",
      "--------------------\n",
      "Базовые метрики - платящие игроки\n",
      "count   179,747.0\n",
      "mean      5,682.7\n",
      "std       1,333.8\n",
      "min          50.0\n",
      "25%       4,800.0\n",
      "50%       5,700.0\n",
      "75%       6,600.0\n",
      "max      11,600.0\n",
      "Name: cash, dtype: float64\n",
      "Медиана -  5700.0\n",
      "------------------------------------\n",
      "Самые популярные значения метрики, топ 5\n",
      "5700    2768\n",
      "5850    2748\n",
      "5500    2721\n",
      "5750    2716\n",
      "5600    2704\n",
      "Name: cash, dtype: int64\n",
      "------------------------------------\n",
      "Эксцесс  -0.012892380793130709\n",
      "Ассиметрия  -0.008822141671850548\n",
      "ARSPU -  5682.683160219642\n",
      "Доверительный интервал средней для платящих (3068.4000419439603, 8296.966278495323)\n"
     ]
    },
    {
     "data": {
      "image/png": "[encoded data removed]",
      "text/plain": [
       "<Figure size 720x504 with 1 Axes>"
      ]
     },
     "metadata": {
      "needs_background": "light"
     },
     "output_type": "display_data"
    },
    {
     "data": {
      "image/png": "[encoded data removed]",
      "text/plain": [
       "<Figure size 720x504 with 1 Axes>"
      ]
     },
     "metadata": {
      "needs_background": "light"
     },
     "output_type": "display_data"
    }
   ],
   "source": [
    "all_research(control_group_PS4, 'cash')"
   ]
  },
  {
   "cell_type": "markdown",
   "id": "0f9838c4",
   "metadata": {},
   "source": [
    "### Тестовая группа игроков на иксбокс"
   ]
  },
  {
   "cell_type": "code",
   "execution_count": 140,
   "id": "6b7cd4ec",
   "metadata": {},
   "outputs": [
    {
     "name": "stdout",
     "output_type": "stream",
     "text": [
      "Базовые метрики - все игроки\n",
      "count   180,077.0\n",
      "mean      6,176.4\n",
      "std       1,401.3\n",
      "min         150.0\n",
      "25%       5,250.0\n",
      "50%       6,200.0\n",
      "75%       7,100.0\n",
      "max      12,450.0\n",
      "Name: cash, dtype: float64\n",
      "Медиана -  6200.0\n",
      "------------------------------------\n",
      "Самые популярные значения метрики, топ 5\n",
      "6300    2637\n",
      "6350    2615\n",
      "6400    2606\n",
      "5900    2594\n",
      "6000    2589\n",
      "Name: cash, dtype: int64\n",
      "------------------------------------\n",
      "Эксцесс  -0.0007575675274424931\n",
      "Ассиметрия  0.006007650551653336\n",
      "Сумма 1112228100\n",
      "ARSU -  6176.402872104711\n",
      "Доверительный интервал средней для всех (3429.8260479286673, 8922.979696280754)\n",
      "--------------------\n",
      "--------------------\n",
      "Базовые метрики - платящие игроки\n",
      "count   180,050.0\n",
      "mean      6,176.8\n",
      "std       1,400.9\n",
      "min         150.0\n",
      "25%       5,250.0\n",
      "50%       6,200.0\n",
      "75%       7,100.0\n",
      "max      12,450.0\n",
      "Name: cash, dtype: float64\n",
      "Медиана -  6200.0\n",
      "------------------------------------\n",
      "Самые популярные значения метрики, топ 5\n",
      "6300    2637\n",
      "6350    2615\n",
      "6400    2606\n",
      "5900    2594\n",
      "6000    2589\n",
      "Name: cash, dtype: int64\n",
      "------------------------------------\n",
      "Эксцесс  -0.0021528026158521563\n",
      "Ассиметрия  0.006962751924952186\n",
      "ARSPU -  6176.848097750625\n",
      "Доверительный интервал средней для платящих (3431.082074177954, 8922.614121323297)\n"
     ]
    },
    {
     "data": {
      "image/png": "[encoded data removed]",
      "text/plain": [
       "<Figure size 720x504 with 1 Axes>"
      ]
     },
     "metadata": {
      "needs_background": "light"
     },
     "output_type": "display_data"
    },
    {
     "data": {
      "image/png": "[encoded data removed]",
      "text/plain": [
       "<Figure size 720x504 with 1 Axes>"
      ]
     },
     "metadata": {
      "needs_background": "light"
     },
     "output_type": "display_data"
    }
   ],
   "source": [
    "all_research(test_group_Xbox, 'cash')"
   ]
  },
  {
   "cell_type": "markdown",
   "id": "ead73c8f",
   "metadata": {},
   "source": [
    "### Контрольная группа игроков на иксбокс"
   ]
  },
  {
   "cell_type": "code",
   "execution_count": 141,
   "id": "18d6b7db",
   "metadata": {},
   "outputs": [
    {
     "name": "stdout",
     "output_type": "stream",
     "text": [
      "Базовые метрики - все игроки\n",
      "count   180,455.0\n",
      "mean      6,131.8\n",
      "std       1,399.7\n",
      "min         250.0\n",
      "25%       5,200.0\n",
      "50%       6,150.0\n",
      "75%       7,050.0\n",
      "max      12,300.0\n",
      "Name: cash, dtype: float64\n",
      "Медиана -  6150.0\n",
      "------------------------------------\n",
      "Самые популярные значения метрики, топ 5\n",
      "6050    2649\n",
      "6350    2598\n",
      "5900    2592\n",
      "6100    2592\n",
      "6000    2575\n",
      "Name: cash, dtype: int64\n",
      "------------------------------------\n",
      "Эксцесс  -0.003319192521404002\n",
      "Ассиметрия  0.0005730065121141638\n",
      "Сумма 1106512800\n",
      "ARSU -  6131.7935219306755\n",
      "Доверительный интервал средней для всех (3388.3958264174894, 8875.191217443862)\n",
      "--------------------\n",
      "--------------------\n",
      "Базовые метрики - платящие игроки\n",
      "count   180,428.0\n",
      "mean      6,132.2\n",
      "std       1,399.3\n",
      "min         250.0\n",
      "25%       5,200.0\n",
      "50%       6,150.0\n",
      "75%       7,050.0\n",
      "max      12,300.0\n",
      "Name: cash, dtype: float64\n",
      "Медиана -  6150.0\n",
      "------------------------------------\n",
      "Самые популярные значения метрики, топ 5\n",
      "6050    2649\n",
      "6350    2598\n",
      "5900    2592\n",
      "6100    2592\n",
      "6000    2575\n",
      "Name: cash, dtype: int64\n",
      "------------------------------------\n",
      "Эксцесс  -0.004280317391980759\n",
      "Ассиметрия  0.001425005300751949\n",
      "ARSPU -  6132.2239342009\n",
      "Доверительный интервал средней для платящих (3389.591813437221, 8874.856054964579)\n"
     ]
    },
    {
     "data": {
      "image/png": "[encoded data removed]",
      "text/plain": [
       "<Figure size 720x504 with 1 Axes>"
      ]
     },
     "metadata": {
      "needs_background": "light"
     },
     "output_type": "display_data"
    },
    {
     "data": {
      "image/png": "[encoded data removed]",
      "text/plain": [
       "<Figure size 720x504 with 1 Axes>"
      ]
     },
     "metadata": {
      "needs_background": "light"
     },
     "output_type": "display_data"
    }
   ],
   "source": [
    "all_research(control_group_Xbox, 'cash')"
   ]
  },
  {
   "cell_type": "markdown",
   "id": "7ca04468",
   "metadata": {},
   "source": [
    "### подготовим датафрейм который позже преобразуем в csv для PowerBI, в нем должны быть столбцы с нашими метриками по дням"
   ]
  },
  {
   "cell_type": "code",
   "execution_count": 142,
   "id": "8b570ffc",
   "metadata": {},
   "outputs": [],
   "source": [
    "powerbi_test = test_group.groupby('date').agg('sum')"
   ]
  },
  {
   "cell_type": "code",
   "execution_count": 143,
   "id": "2c333788",
   "metadata": {},
   "outputs": [],
   "source": [
    "powerbi_test['users'] = test_group.groupby('date').agg('count')['user_id'][1]"
   ]
  },
  {
   "cell_type": "markdown",
   "id": "7a0f6ea9",
   "metadata": {},
   "source": [
    "### так как во все дни количесвто платящих и не платящих одинаково, в столбец платящих игроков можно ввести константу, в противном случае можно сгруппировать по дате с количеством игроков и добавить столбец с игроками в наш датафрейм"
   ]
  },
  {
   "cell_type": "code",
   "execution_count": 146,
   "id": "01ab733e",
   "metadata": {},
   "outputs": [],
   "source": [
    "df = test_group.groupby('user_id').agg('sum').reset_index().drop(columns='cheaters')\n",
    "df = df[df['money'] > 0]\n",
    "df = pd.DataFrame(df.drop(columns=['money', 'cash']).merge(money, on = 'user_id').merge(cash, on = ['user_id', 'date'])\\\n",
    ".groupby('date').agg('count')['user_id'].reset_index())\n"
   ]
  },
  {
   "cell_type": "markdown",
   "id": "2b7d4c80",
   "metadata": {},
   "source": [
    "### Переименуем столбец, затем соеденим с существующим датафреймом и добавим метрики по дням"
   ]
  },
  {
   "cell_type": "code",
   "execution_count": 148,
   "id": "462df04b",
   "metadata": {},
   "outputs": [],
   "source": [
    "df.rename(columns={'user_id' : 'paying_users'}, inplace=True)"
   ]
  },
  {
   "cell_type": "code",
   "execution_count": 149,
   "id": "322ec366",
   "metadata": {
    "scrolled": true
   },
   "outputs": [],
   "source": [
    "powerbi_test = powerbi_test.merge(df, on='date')"
   ]
  },
  {
   "cell_type": "code",
   "execution_count": 150,
   "id": "7b361be8",
   "metadata": {},
   "outputs": [],
   "source": [
    "powerbi_test['ARPU'] = powerbi_test['money'] / powerbi_test['users']"
   ]
  },
  {
   "cell_type": "code",
   "execution_count": 151,
   "id": "3d71b4c9",
   "metadata": {},
   "outputs": [],
   "source": [
    "powerbi_test['ARPPU'] = powerbi_test['money'] / powerbi_test['paying_users']\n",
    "powerbi_test['ARSU'] = powerbi_test['cash'] / powerbi_test['users']\n",
    "powerbi_test['ARSPU'] = powerbi_test['cash'] / powerbi_test['paying_users']"
   ]
  },
  {
   "cell_type": "markdown",
   "id": "16687e15",
   "metadata": {},
   "source": [
    "### удалим ненужнй столбец"
   ]
  },
  {
   "cell_type": "code",
   "execution_count": 152,
   "id": "dbdc0d0f",
   "metadata": {},
   "outputs": [],
   "source": [
    "powerbi_test.drop(columns='cheaters', inplace=True)"
   ]
  },
  {
   "cell_type": "code",
   "execution_count": 153,
   "id": "02a7776f",
   "metadata": {},
   "outputs": [
    {
     "data": {
      "text/html": [
       "<div>\n",
       "<style scoped>\n",
       "    .dataframe tbody tr th:only-of-type {\n",
       "        vertical-align: middle;\n",
       "    }\n",
       "\n",
       "    .dataframe tbody tr th {\n",
       "        vertical-align: top;\n",
       "    }\n",
       "\n",
       "    .dataframe thead th {\n",
       "        text-align: right;\n",
       "    }\n",
       "</style>\n",
       "<table border=\"1\" class=\"dataframe\">\n",
       "  <thead>\n",
       "    <tr style=\"text-align: right;\">\n",
       "      <th></th>\n",
       "      <th>date</th>\n",
       "      <th>money</th>\n",
       "      <th>cash_x</th>\n",
       "      <th>cash_y</th>\n",
       "      <th>cash</th>\n",
       "      <th>users</th>\n",
       "      <th>paying_users</th>\n",
       "      <th>ARPU</th>\n",
       "      <th>ARPPU</th>\n",
       "      <th>ARSU</th>\n",
       "      <th>ARSPU</th>\n",
       "    </tr>\n",
       "  </thead>\n",
       "  <tbody>\n",
       "    <tr>\n",
       "      <th>0</th>\n",
       "      <td>2021-07-10</td>\n",
       "      <td>410,341.9</td>\n",
       "      <td>439980100</td>\n",
       "      <td>439980100</td>\n",
       "      <td>439980100</td>\n",
       "      <td>539312</td>\n",
       "      <td>539236</td>\n",
       "      <td>0.8</td>\n",
       "      <td>0.8</td>\n",
       "      <td>815.8</td>\n",
       "      <td>815.9</td>\n",
       "    </tr>\n",
       "    <tr>\n",
       "      <th>1</th>\n",
       "      <td>2021-07-11</td>\n",
       "      <td>410,937.9</td>\n",
       "      <td>440212450</td>\n",
       "      <td>440212450</td>\n",
       "      <td>440212450</td>\n",
       "      <td>539312</td>\n",
       "      <td>539236</td>\n",
       "      <td>0.8</td>\n",
       "      <td>0.8</td>\n",
       "      <td>816.2</td>\n",
       "      <td>816.4</td>\n",
       "    </tr>\n",
       "    <tr>\n",
       "      <th>2</th>\n",
       "      <td>2021-07-12</td>\n",
       "      <td>409,077.7</td>\n",
       "      <td>437566350</td>\n",
       "      <td>437566350</td>\n",
       "      <td>437566350</td>\n",
       "      <td>539312</td>\n",
       "      <td>539236</td>\n",
       "      <td>0.8</td>\n",
       "      <td>0.8</td>\n",
       "      <td>811.3</td>\n",
       "      <td>811.5</td>\n",
       "    </tr>\n",
       "    <tr>\n",
       "      <th>3</th>\n",
       "      <td>2021-07-13</td>\n",
       "      <td>400,947.8</td>\n",
       "      <td>428022700</td>\n",
       "      <td>428022700</td>\n",
       "      <td>428022700</td>\n",
       "      <td>539312</td>\n",
       "      <td>539236</td>\n",
       "      <td>0.7</td>\n",
       "      <td>0.7</td>\n",
       "      <td>793.6</td>\n",
       "      <td>793.8</td>\n",
       "    </tr>\n",
       "    <tr>\n",
       "      <th>4</th>\n",
       "      <td>2021-07-14</td>\n",
       "      <td>383,022.8</td>\n",
       "      <td>402593600</td>\n",
       "      <td>402593600</td>\n",
       "      <td>402593600</td>\n",
       "      <td>539312</td>\n",
       "      <td>539236</td>\n",
       "      <td>0.7</td>\n",
       "      <td>0.7</td>\n",
       "      <td>746.5</td>\n",
       "      <td>746.6</td>\n",
       "    </tr>\n",
       "    <tr>\n",
       "      <th>5</th>\n",
       "      <td>2021-07-15</td>\n",
       "      <td>353,538.5</td>\n",
       "      <td>356375500</td>\n",
       "      <td>356375500</td>\n",
       "      <td>356375500</td>\n",
       "      <td>539312</td>\n",
       "      <td>539236</td>\n",
       "      <td>0.7</td>\n",
       "      <td>0.7</td>\n",
       "      <td>660.8</td>\n",
       "      <td>660.9</td>\n",
       "    </tr>\n",
       "    <tr>\n",
       "      <th>6</th>\n",
       "      <td>2021-07-16</td>\n",
       "      <td>314,611.7</td>\n",
       "      <td>290573050</td>\n",
       "      <td>290573050</td>\n",
       "      <td>290573050</td>\n",
       "      <td>539312</td>\n",
       "      <td>539236</td>\n",
       "      <td>0.6</td>\n",
       "      <td>0.6</td>\n",
       "      <td>538.8</td>\n",
       "      <td>538.9</td>\n",
       "    </tr>\n",
       "    <tr>\n",
       "      <th>7</th>\n",
       "      <td>2021-07-17</td>\n",
       "      <td>640,910.7</td>\n",
       "      <td>564372300</td>\n",
       "      <td>564372300</td>\n",
       "      <td>564372300</td>\n",
       "      <td>539312</td>\n",
       "      <td>539236</td>\n",
       "      <td>1.2</td>\n",
       "      <td>1.2</td>\n",
       "      <td>1,046.5</td>\n",
       "      <td>1,046.6</td>\n",
       "    </tr>\n",
       "  </tbody>\n",
       "</table>\n",
       "</div>"
      ],
      "text/plain": [
       "        date     money     cash_x     cash_y       cash   users  paying_users  \\\n",
       "0 2021-07-10 410,341.9  439980100  439980100  439980100  539312        539236   \n",
       "1 2021-07-11 410,937.9  440212450  440212450  440212450  539312        539236   \n",
       "2 2021-07-12 409,077.7  437566350  437566350  437566350  539312        539236   \n",
       "3 2021-07-13 400,947.8  428022700  428022700  428022700  539312        539236   \n",
       "4 2021-07-14 383,022.8  402593600  402593600  402593600  539312        539236   \n",
       "5 2021-07-15 353,538.5  356375500  356375500  356375500  539312        539236   \n",
       "6 2021-07-16 314,611.7  290573050  290573050  290573050  539312        539236   \n",
       "7 2021-07-17 640,910.7  564372300  564372300  564372300  539312        539236   \n",
       "\n",
       "   ARPU  ARPPU    ARSU   ARSPU  \n",
       "0   0.8    0.8   815.8   815.9  \n",
       "1   0.8    0.8   816.2   816.4  \n",
       "2   0.8    0.8   811.3   811.5  \n",
       "3   0.7    0.7   793.6   793.8  \n",
       "4   0.7    0.7   746.5   746.6  \n",
       "5   0.7    0.7   660.8   660.9  \n",
       "6   0.6    0.6   538.8   538.9  \n",
       "7   1.2    1.2 1,046.5 1,046.6  "
      ]
     },
     "execution_count": 153,
     "metadata": {},
     "output_type": "execute_result"
    }
   ],
   "source": [
    "powerbi_test"
   ]
  },
  {
   "cell_type": "markdown",
   "id": "3276131f",
   "metadata": {},
   "source": [
    "### Так как количество пользователей неизменно, а период прибыли теперь день, ARPU и остальные метрики ниже по сравнению с метриками за весь период теста"
   ]
  },
  {
   "cell_type": "markdown",
   "id": "e494a6e5",
   "metadata": {},
   "source": [
    "### сохраним в csv"
   ]
  },
  {
   "cell_type": "code",
   "execution_count": 154,
   "id": "3d10c5a1",
   "metadata": {},
   "outputs": [],
   "source": [
    "powerbi_test.to_csv('power_test.csv',index=False)"
   ]
  },
  {
   "cell_type": "markdown",
   "id": "9c1474f8",
   "metadata": {},
   "source": [
    "### повторим то же самое для контрольной группы"
   ]
  },
  {
   "cell_type": "code",
   "execution_count": 155,
   "id": "0601f6e0",
   "metadata": {},
   "outputs": [
    {
     "data": {
      "text/html": [
       "<div>\n",
       "<style scoped>\n",
       "    .dataframe tbody tr th:only-of-type {\n",
       "        vertical-align: middle;\n",
       "    }\n",
       "\n",
       "    .dataframe tbody tr th {\n",
       "        vertical-align: top;\n",
       "    }\n",
       "\n",
       "    .dataframe thead th {\n",
       "        text-align: right;\n",
       "    }\n",
       "</style>\n",
       "<table border=\"1\" class=\"dataframe\">\n",
       "  <thead>\n",
       "    <tr style=\"text-align: right;\">\n",
       "      <th></th>\n",
       "      <th>date</th>\n",
       "      <th>money</th>\n",
       "      <th>cash_x</th>\n",
       "      <th>cash_y</th>\n",
       "      <th>cash</th>\n",
       "      <th>users</th>\n",
       "      <th>paying_users</th>\n",
       "      <th>ARPU</th>\n",
       "      <th>ARPPU</th>\n",
       "      <th>ARSU</th>\n",
       "      <th>ARSPU</th>\n",
       "    </tr>\n",
       "  </thead>\n",
       "  <tbody>\n",
       "    <tr>\n",
       "      <th>0</th>\n",
       "      <td>2021-07-10</td>\n",
       "      <td>393,870.2</td>\n",
       "      <td>414345600</td>\n",
       "      <td>414345600</td>\n",
       "      <td>414345600</td>\n",
       "      <td>539991</td>\n",
       "      <td>539840</td>\n",
       "      <td>0.7</td>\n",
       "      <td>0.7</td>\n",
       "      <td>767.3</td>\n",
       "      <td>767.5</td>\n",
       "    </tr>\n",
       "    <tr>\n",
       "      <th>1</th>\n",
       "      <td>2021-07-11</td>\n",
       "      <td>392,476.6</td>\n",
       "      <td>413883550</td>\n",
       "      <td>413883550</td>\n",
       "      <td>413883550</td>\n",
       "      <td>539991</td>\n",
       "      <td>539840</td>\n",
       "      <td>0.7</td>\n",
       "      <td>0.7</td>\n",
       "      <td>766.5</td>\n",
       "      <td>766.7</td>\n",
       "    </tr>\n",
       "    <tr>\n",
       "      <th>2</th>\n",
       "      <td>2021-07-12</td>\n",
       "      <td>390,787.8</td>\n",
       "      <td>411404650</td>\n",
       "      <td>411404650</td>\n",
       "      <td>411404650</td>\n",
       "      <td>539991</td>\n",
       "      <td>539840</td>\n",
       "      <td>0.7</td>\n",
       "      <td>0.7</td>\n",
       "      <td>761.9</td>\n",
       "      <td>762.1</td>\n",
       "    </tr>\n",
       "    <tr>\n",
       "      <th>3</th>\n",
       "      <td>2021-07-13</td>\n",
       "      <td>382,743.8</td>\n",
       "      <td>401374950</td>\n",
       "      <td>401374950</td>\n",
       "      <td>401374950</td>\n",
       "      <td>539991</td>\n",
       "      <td>539840</td>\n",
       "      <td>0.7</td>\n",
       "      <td>0.7</td>\n",
       "      <td>743.3</td>\n",
       "      <td>743.5</td>\n",
       "    </tr>\n",
       "    <tr>\n",
       "      <th>4</th>\n",
       "      <td>2021-07-14</td>\n",
       "      <td>364,514.4</td>\n",
       "      <td>376459800</td>\n",
       "      <td>376459800</td>\n",
       "      <td>376459800</td>\n",
       "      <td>539991</td>\n",
       "      <td>539840</td>\n",
       "      <td>0.7</td>\n",
       "      <td>0.7</td>\n",
       "      <td>697.2</td>\n",
       "      <td>697.4</td>\n",
       "    </tr>\n",
       "    <tr>\n",
       "      <th>5</th>\n",
       "      <td>2021-07-15</td>\n",
       "      <td>335,543.7</td>\n",
       "      <td>331369100</td>\n",
       "      <td>331369100</td>\n",
       "      <td>331369100</td>\n",
       "      <td>539991</td>\n",
       "      <td>539840</td>\n",
       "      <td>0.6</td>\n",
       "      <td>0.6</td>\n",
       "      <td>613.7</td>\n",
       "      <td>613.8</td>\n",
       "    </tr>\n",
       "    <tr>\n",
       "      <th>6</th>\n",
       "      <td>2021-07-16</td>\n",
       "      <td>299,028.2</td>\n",
       "      <td>269428450</td>\n",
       "      <td>269428450</td>\n",
       "      <td>269428450</td>\n",
       "      <td>539991</td>\n",
       "      <td>539840</td>\n",
       "      <td>0.6</td>\n",
       "      <td>0.6</td>\n",
       "      <td>498.9</td>\n",
       "      <td>499.1</td>\n",
       "    </tr>\n",
       "    <tr>\n",
       "      <th>7</th>\n",
       "      <td>2021-07-17</td>\n",
       "      <td>588,901.1</td>\n",
       "      <td>514062600</td>\n",
       "      <td>514062600</td>\n",
       "      <td>514062600</td>\n",
       "      <td>539991</td>\n",
       "      <td>539840</td>\n",
       "      <td>1.1</td>\n",
       "      <td>1.1</td>\n",
       "      <td>952.0</td>\n",
       "      <td>952.2</td>\n",
       "    </tr>\n",
       "  </tbody>\n",
       "</table>\n",
       "</div>"
      ],
      "text/plain": [
       "        date     money     cash_x     cash_y       cash   users  paying_users  \\\n",
       "0 2021-07-10 393,870.2  414345600  414345600  414345600  539991        539840   \n",
       "1 2021-07-11 392,476.6  413883550  413883550  413883550  539991        539840   \n",
       "2 2021-07-12 390,787.8  411404650  411404650  411404650  539991        539840   \n",
       "3 2021-07-13 382,743.8  401374950  401374950  401374950  539991        539840   \n",
       "4 2021-07-14 364,514.4  376459800  376459800  376459800  539991        539840   \n",
       "5 2021-07-15 335,543.7  331369100  331369100  331369100  539991        539840   \n",
       "6 2021-07-16 299,028.2  269428450  269428450  269428450  539991        539840   \n",
       "7 2021-07-17 588,901.1  514062600  514062600  514062600  539991        539840   \n",
       "\n",
       "   ARPU  ARPPU  ARSU  ARSPU  \n",
       "0   0.7    0.7 767.3  767.5  \n",
       "1   0.7    0.7 766.5  766.7  \n",
       "2   0.7    0.7 761.9  762.1  \n",
       "3   0.7    0.7 743.3  743.5  \n",
       "4   0.7    0.7 697.2  697.4  \n",
       "5   0.6    0.6 613.7  613.8  \n",
       "6   0.6    0.6 498.9  499.1  \n",
       "7   1.1    1.1 952.0  952.2  "
      ]
     },
     "execution_count": 155,
     "metadata": {},
     "output_type": "execute_result"
    }
   ],
   "source": [
    "powerbi_control = control_group.groupby('date').agg('sum')\n",
    "powerbi_control['users'] = control_group.groupby('date').agg('count')['user_id'][1]\n",
    "df = control_group.groupby('user_id').agg('sum').reset_index().drop(columns='cheaters')\n",
    "df = df[df['money'] > 0]\n",
    "df = pd.DataFrame(df.drop(columns=['money', 'cash']).merge(money, on = 'user_id').merge(cash, on = ['user_id', 'date'])\\\n",
    ".groupby('date').agg('count')['user_id'].reset_index())\n",
    "df.rename(columns={'user_id' : 'paying_users'}, inplace=True)\n",
    "powerbi_control = powerbi_control.merge(df, on='date')\n",
    "powerbi_control['ARPU'] = powerbi_control['money'] / powerbi_control['users']\n",
    "powerbi_control['ARPPU'] = powerbi_control['money'] / powerbi_control['paying_users']\n",
    "powerbi_control['ARSU'] = powerbi_control['cash'] / powerbi_control['users']\n",
    "powerbi_control['ARSPU'] = powerbi_control['cash'] / powerbi_control['paying_users']\n",
    "powerbi_control.drop(columns='cheaters', inplace=True)\n",
    "powerbi_control"
   ]
  },
  {
   "cell_type": "code",
   "execution_count": 156,
   "id": "99ca7a01",
   "metadata": {},
   "outputs": [],
   "source": [
    "powerbi_control.to_csv('power_control.csv',index=False)"
   ]
  },
  {
   "cell_type": "markdown",
   "id": "d08e0e74",
   "metadata": {},
   "source": [
    "#### Теперь подготовим эксель файл для сводной таблицы ARPU по группам и платформам. Для этого нужна таблица с количеством игроков, их платформой, группой, и суммарным платежом за период."
   ]
  },
  {
   "cell_type": "code",
   "execution_count": 157,
   "id": "9c7a6b8d",
   "metadata": {},
   "outputs": [],
   "source": [
    "excel = money.groupby('user_id').agg('sum').reset_index()\\\n",
    ".merge(platforms, on='user_id').merge(players, on='user_id')\\\n",
    ".drop(columns='cheaters')\n"
   ]
  },
  {
   "cell_type": "code",
   "execution_count": 158,
   "id": "f0e728e1",
   "metadata": {},
   "outputs": [],
   "source": [
    "df = excel.groupby(['platform', 'group']).agg('sum').reset_index()\n",
    "df = df.merge(excel.groupby(['platform', 'group']).agg('count').reset_index()[['user_id', 'platform', 'group']], on=['platform', 'group'])"
   ]
  },
  {
   "cell_type": "code",
   "execution_count": 159,
   "id": "b2e21691",
   "metadata": {},
   "outputs": [],
   "source": [
    "df.rename(columns={'user_id' : 'users'}, inplace=True)\n"
   ]
  },
  {
   "cell_type": "code",
   "execution_count": 160,
   "id": "5b82398b",
   "metadata": {},
   "outputs": [],
   "source": [
    "df.to_excel('table.xlsx')"
   ]
  }
 ],
 "metadata": {
  "kernelspec": {
   "display_name": "Python 3 (ipykernel)",
   "language": "python",
   "name": "python3"
  },
  "language_info": {
   "codemirror_mode": {
    "name": "ipython",
    "version": 3
   },
   "file_extension": ".py",
   "mimetype": "text/x-python",
   "name": "python",
   "nbconvert_exporter": "python",
   "pygments_lexer": "ipython3",
   "version": "3.9.12"
  }
 },
 "nbformat": 4,
 "nbformat_minor": 5
}
